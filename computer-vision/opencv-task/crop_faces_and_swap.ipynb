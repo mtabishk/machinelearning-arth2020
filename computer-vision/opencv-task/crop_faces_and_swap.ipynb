{
 "cells": [
  {
   "cell_type": "code",
   "execution_count": 1,
   "id": "200217ac",
   "metadata": {},
   "outputs": [],
   "source": [
    "import cv2\n",
    "import numpy as np"
   ]
  },
  {
   "cell_type": "code",
   "execution_count": 78,
   "id": "98063763",
   "metadata": {},
   "outputs": [],
   "source": [
    "lil_baby_img  = cv2.imread(\"lil_baby.jpg\", 1)"
   ]
  },
  {
   "cell_type": "code",
   "execution_count": 23,
   "id": "b593270c",
   "metadata": {},
   "outputs": [
    {
     "data": {
      "text/plain": [
       "(719, 621, 3)"
      ]
     },
     "execution_count": 23,
     "metadata": {},
     "output_type": "execute_result"
    }
   ],
   "source": [
    "lil_baby_img.shape"
   ]
  },
  {
   "cell_type": "code",
   "execution_count": 90,
   "id": "78d4c05e",
   "metadata": {},
   "outputs": [],
   "source": [
    "cv2.imshow(\"lil baby\", lil_baby_img)\n",
    "cv2.waitKey()\n",
    "cv2.destroyAllWindows()"
   ]
  },
  {
   "cell_type": "code",
   "execution_count": 79,
   "id": "789d2280",
   "metadata": {},
   "outputs": [],
   "source": [
    "polo_g_img  = cv2.imread(\"polo_g.jpg\", 1)"
   ]
  },
  {
   "cell_type": "code",
   "execution_count": 21,
   "id": "19f73207",
   "metadata": {},
   "outputs": [
    {
     "data": {
      "text/plain": [
       "(800, 612, 3)"
      ]
     },
     "execution_count": 21,
     "metadata": {},
     "output_type": "execute_result"
    }
   ],
   "source": [
    "polo_g_img.shape"
   ]
  },
  {
   "cell_type": "code",
   "execution_count": 91,
   "id": "36cf00de",
   "metadata": {},
   "outputs": [],
   "source": [
    "cv2.imshow(\"polo g\", polo_g_img)\n",
    "cv2.waitKey()\n",
    "cv2.destroyAllWindows()"
   ]
  },
  {
   "cell_type": "code",
   "execution_count": null,
   "id": "d5e54dd0",
   "metadata": {},
   "outputs": [],
   "source": [
    "# crop faces"
   ]
  },
  {
   "cell_type": "code",
   "execution_count": 80,
   "id": "326db591",
   "metadata": {},
   "outputs": [],
   "source": [
    "lil_baby_face = lil_baby_img[150:450, 200:440]"
   ]
  },
  {
   "cell_type": "code",
   "execution_count": 81,
   "id": "6387b5d2",
   "metadata": {},
   "outputs": [
    {
     "data": {
      "text/plain": [
       "(300, 240, 3)"
      ]
     },
     "execution_count": 81,
     "metadata": {},
     "output_type": "execute_result"
    }
   ],
   "source": [
    "lil_baby_face.shape"
   ]
  },
  {
   "cell_type": "code",
   "execution_count": 82,
   "id": "29a2b504",
   "metadata": {},
   "outputs": [],
   "source": [
    "polo_g_face = polo_g_img[0:300, 250:490]"
   ]
  },
  {
   "cell_type": "code",
   "execution_count": 83,
   "id": "cc492e50",
   "metadata": {},
   "outputs": [
    {
     "data": {
      "text/plain": [
       "(300, 240, 3)"
      ]
     },
     "execution_count": 83,
     "metadata": {},
     "output_type": "execute_result"
    }
   ],
   "source": [
    "polo_g_face.shape"
   ]
  },
  {
   "cell_type": "code",
   "execution_count": 84,
   "id": "1e40469e",
   "metadata": {},
   "outputs": [],
   "source": [
    "lil_baby_img_copy = lil_baby_img.copy()"
   ]
  },
  {
   "cell_type": "code",
   "execution_count": 85,
   "id": "f6d48f02",
   "metadata": {},
   "outputs": [],
   "source": [
    "lil_baby_face = lil_baby_img_copy[150:450, 200:440]"
   ]
  },
  {
   "cell_type": "code",
   "execution_count": 86,
   "id": "3e5fbf71",
   "metadata": {},
   "outputs": [],
   "source": [
    "# swap faces"
   ]
  },
  {
   "cell_type": "code",
   "execution_count": 87,
   "id": "dd81a190",
   "metadata": {},
   "outputs": [],
   "source": [
    "lil_baby_img[150:450, 200:440]  = polo_g_face"
   ]
  },
  {
   "cell_type": "code",
   "execution_count": 88,
   "id": "da41a268",
   "metadata": {},
   "outputs": [],
   "source": [
    "polo_g_img[0:300, 250:490] = lil_baby_face"
   ]
  },
  {
   "cell_type": "code",
   "execution_count": 89,
   "id": "99a06d2c",
   "metadata": {},
   "outputs": [],
   "source": [
    "cv2.imshow(\"image\", polo_g_face)\n",
    "cv2.waitKey()\n",
    "cv2.destroyAllWindows()"
   ]
  },
  {
   "cell_type": "code",
   "execution_count": 92,
   "id": "a55670c3",
   "metadata": {},
   "outputs": [],
   "source": [
    "# stack images horizontally"
   ]
  },
  {
   "cell_type": "code",
   "execution_count": 98,
   "id": "3611142a",
   "metadata": {},
   "outputs": [],
   "source": [
    "lil_baby_img = lil_baby_img[:, :612]"
   ]
  },
  {
   "cell_type": "code",
   "execution_count": 99,
   "id": "1cd6ca62",
   "metadata": {},
   "outputs": [],
   "source": [
    "polo_g_img = polo_g_img[:719, :]"
   ]
  },
  {
   "cell_type": "code",
   "execution_count": 100,
   "id": "02c4bd4d",
   "metadata": {},
   "outputs": [],
   "source": [
    "imgStack = np.hstack((lil_baby_img, polo_g_img))"
   ]
  },
  {
   "cell_type": "code",
   "execution_count": 101,
   "id": "0daa3ea4",
   "metadata": {},
   "outputs": [],
   "source": [
    "cv2.imshow('Image Stack', imgStack)\n",
    "cv2.waitKey()\n",
    "cv2.destroyAllWindows()"
   ]
  },
  {
   "cell_type": "code",
   "execution_count": null,
   "id": "94d0fffa",
   "metadata": {},
   "outputs": [],
   "source": []
  }
 ],
 "metadata": {
  "kernelspec": {
   "display_name": "Python 3",
   "language": "python",
   "name": "python3"
  },
  "language_info": {
   "codemirror_mode": {
    "name": "ipython",
    "version": 3
   },
   "file_extension": ".py",
   "mimetype": "text/x-python",
   "name": "python",
   "nbconvert_exporter": "python",
   "pygments_lexer": "ipython3",
   "version": "3.8.8"
  }
 },
 "nbformat": 4,
 "nbformat_minor": 5
}
