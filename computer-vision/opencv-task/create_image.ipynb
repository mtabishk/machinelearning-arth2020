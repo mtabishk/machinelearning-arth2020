{
 "cells": [
  {
   "cell_type": "code",
   "execution_count": 2,
   "id": "b241c18b",
   "metadata": {},
   "outputs": [],
   "source": [
    "import cv2\n",
    "import numpy as np"
   ]
  },
  {
   "cell_type": "code",
   "execution_count": 17,
   "id": "cc91bf0d",
   "metadata": {},
   "outputs": [],
   "source": [
    "cn = np.zeros((640,640,3))"
   ]
  },
  {
   "cell_type": "code",
   "execution_count": null,
   "id": "f524b3c8",
   "metadata": {},
   "outputs": [],
   "source": [
    "# creating T letter in image"
   ]
  },
  {
   "cell_type": "code",
   "execution_count": 18,
   "id": "b456b07c",
   "metadata": {},
   "outputs": [],
   "source": [
    "cn[50:150] = [0,255,0]"
   ]
  },
  {
   "cell_type": "code",
   "execution_count": 19,
   "id": "84706668",
   "metadata": {},
   "outputs": [],
   "source": [
    "cn[50:,270:390] = [0,255,0]"
   ]
  },
  {
   "cell_type": "code",
   "execution_count": 20,
   "id": "30a343b5",
   "metadata": {},
   "outputs": [],
   "source": [
    "cv2.imshow(\"cn\", cn)\n",
    "cv2.waitKey()\n",
    "cv2.destroyAllWindows()"
   ]
  },
  {
   "cell_type": "code",
   "execution_count": null,
   "id": "3903d0a6",
   "metadata": {},
   "outputs": [],
   "source": []
  }
 ],
 "metadata": {
  "kernelspec": {
   "display_name": "Python 3",
   "language": "python",
   "name": "python3"
  },
  "language_info": {
   "codemirror_mode": {
    "name": "ipython",
    "version": 3
   },
   "file_extension": ".py",
   "mimetype": "text/x-python",
   "name": "python",
   "nbconvert_exporter": "python",
   "pygments_lexer": "ipython3",
   "version": "3.8.8"
  }
 },
 "nbformat": 4,
 "nbformat_minor": 5
}
