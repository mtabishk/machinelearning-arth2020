{
 "cells": [
  {
   "cell_type": "code",
   "execution_count": 2,
   "id": "68e4c935",
   "metadata": {},
   "outputs": [],
   "source": [
    "import cv2\n",
    "import numpy as np"
   ]
  },
  {
   "cell_type": "code",
   "execution_count": 3,
   "id": "a1a3a1a3",
   "metadata": {},
   "outputs": [],
   "source": [
    "img1 = cv2.imread('lil_baby.jpg')"
   ]
  },
  {
   "cell_type": "code",
   "execution_count": 5,
   "id": "6756ec66",
   "metadata": {},
   "outputs": [
    {
     "data": {
      "text/plain": [
       "(719, 621, 3)"
      ]
     },
     "execution_count": 5,
     "metadata": {},
     "output_type": "execute_result"
    }
   ],
   "source": [
    "img1.shape"
   ]
  },
  {
   "cell_type": "code",
   "execution_count": 11,
   "id": "848fcf7c",
   "metadata": {},
   "outputs": [],
   "source": [
    "img1 = img1[:, :612]"
   ]
  },
  {
   "cell_type": "code",
   "execution_count": 12,
   "id": "d4fa24f4",
   "metadata": {},
   "outputs": [
    {
     "data": {
      "text/plain": [
       "(719, 612, 3)"
      ]
     },
     "execution_count": 12,
     "metadata": {},
     "output_type": "execute_result"
    }
   ],
   "source": [
    "img1.shape"
   ]
  },
  {
   "cell_type": "code",
   "execution_count": 6,
   "id": "8fbecffe",
   "metadata": {},
   "outputs": [],
   "source": [
    "img2 = cv2.imread('polo_g.jpg')"
   ]
  },
  {
   "cell_type": "code",
   "execution_count": 7,
   "id": "d31a85d3",
   "metadata": {},
   "outputs": [
    {
     "data": {
      "text/plain": [
       "(800, 612, 3)"
      ]
     },
     "execution_count": 7,
     "metadata": {},
     "output_type": "execute_result"
    }
   ],
   "source": [
    "img2.shape"
   ]
  },
  {
   "cell_type": "code",
   "execution_count": 9,
   "id": "70ad0a93",
   "metadata": {},
   "outputs": [],
   "source": [
    "img2 = img2[:719, :]"
   ]
  },
  {
   "cell_type": "code",
   "execution_count": 10,
   "id": "5ff242f0",
   "metadata": {},
   "outputs": [
    {
     "data": {
      "text/plain": [
       "(719, 612, 3)"
      ]
     },
     "execution_count": 10,
     "metadata": {},
     "output_type": "execute_result"
    }
   ],
   "source": [
    "img2.shape"
   ]
  },
  {
   "cell_type": "code",
   "execution_count": 13,
   "id": "1a2c1482",
   "metadata": {},
   "outputs": [],
   "source": [
    "collage = np.hstack((img1,img2))"
   ]
  },
  {
   "cell_type": "code",
   "execution_count": 14,
   "id": "1676a6d8",
   "metadata": {},
   "outputs": [],
   "source": [
    "cv2.imshow(\"collage\", collage)\n",
    "cv2.waitKey()\n",
    "cv2.destroyAllWindows()"
   ]
  },
  {
   "cell_type": "code",
   "execution_count": null,
   "id": "27f15c66",
   "metadata": {},
   "outputs": [],
   "source": []
  }
 ],
 "metadata": {
  "kernelspec": {
   "display_name": "Python 3",
   "language": "python",
   "name": "python3"
  },
  "language_info": {
   "codemirror_mode": {
    "name": "ipython",
    "version": 3
   },
   "file_extension": ".py",
   "mimetype": "text/x-python",
   "name": "python",
   "nbconvert_exporter": "python",
   "pygments_lexer": "ipython3",
   "version": "3.8.8"
  }
 },
 "nbformat": 4,
 "nbformat_minor": 5
}
