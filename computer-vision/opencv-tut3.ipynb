{
 "cells": [
  {
   "cell_type": "code",
   "execution_count": 1,
   "id": "1325214a",
   "metadata": {},
   "outputs": [],
   "source": [
    "import cv2"
   ]
  },
  {
   "cell_type": "code",
   "execution_count": 2,
   "id": "f003d528",
   "metadata": {},
   "outputs": [],
   "source": [
    "photo = cv2.imread(\"myimage.jpg\", 1)"
   ]
  },
  {
   "cell_type": "code",
   "execution_count": 3,
   "id": "476ae2e1",
   "metadata": {},
   "outputs": [
    {
     "data": {
      "text/plain": [
       "(480, 640, 3)"
      ]
     },
     "execution_count": 3,
     "metadata": {},
     "output_type": "execute_result"
    }
   ],
   "source": [
    "photo.shape"
   ]
  },
  {
   "cell_type": "code",
   "execution_count": null,
   "id": "c0889091",
   "metadata": {},
   "outputs": [],
   "source": [
    "cv2.imshow(\"my pic\", photo)\n",
    "cv2.waitKey()\n",
    "cv2.destroyAllWindows()"
   ]
  },
  {
   "cell_type": "code",
   "execution_count": null,
   "id": "11b93913",
   "metadata": {},
   "outputs": [],
   "source": [
    "rphoto = cv2.rectangle(photo, (220,140), (350,300), [0,255,0], 3)"
   ]
  },
  {
   "cell_type": "code",
   "execution_count": null,
   "id": "a6bcaba7",
   "metadata": {},
   "outputs": [],
   "source": [
    "cv2.imshow(\"my r pic\",rphoto)\n",
    "cv2.waitKey()\n",
    "cv2.destroyAllWindows()"
   ]
  },
  {
   "cell_type": "code",
   "execution_count": 8,
   "id": "50e97555",
   "metadata": {},
   "outputs": [],
   "source": [
    "# haar cascade for face detection\n",
    "model = cv2.CascadeClassifier('haarcascade_frontalface_default.xml')"
   ]
  },
  {
   "cell_type": "code",
   "execution_count": 9,
   "id": "427937e2",
   "metadata": {},
   "outputs": [],
   "source": [
    "faces = model.detectMultiScale(photo)"
   ]
  },
  {
   "cell_type": "code",
   "execution_count": 10,
   "id": "695646ee",
   "metadata": {},
   "outputs": [
    {
     "data": {
      "text/plain": [
       "array([[230, 170, 125, 125]], dtype=int32)"
      ]
     },
     "execution_count": 10,
     "metadata": {},
     "output_type": "execute_result"
    }
   ],
   "source": [
    "# x1, y1, width, height\n",
    "faces"
   ]
  },
  {
   "cell_type": "code",
   "execution_count": 11,
   "id": "46f768e2",
   "metadata": {},
   "outputs": [
    {
     "data": {
      "text/plain": [
       "1"
      ]
     },
     "execution_count": 11,
     "metadata": {},
     "output_type": "execute_result"
    }
   ],
   "source": [
    "# length of the array will depend on the no. of faces detected\n",
    "len(faces)"
   ]
  },
  {
   "cell_type": "code",
   "execution_count": 17,
   "id": "8997a73b",
   "metadata": {},
   "outputs": [],
   "source": [
    "x1 = faces[0][0]\n",
    "y1 = faces[0][1]\n",
    "width = faces[0][2]\n",
    "height = faces[0][3]\n"
   ]
  },
  {
   "cell_type": "code",
   "execution_count": 18,
   "id": "305534bf",
   "metadata": {},
   "outputs": [],
   "source": [
    "x2 = x1 + width\n",
    "y2 = y1 + height"
   ]
  },
  {
   "cell_type": "code",
   "execution_count": 19,
   "id": "b9753ee4",
   "metadata": {},
   "outputs": [],
   "source": [
    "dphoto = cv2.rectangle(photo, (x1,y1), (x2,y2), [0,255,0], 3)"
   ]
  },
  {
   "cell_type": "code",
   "execution_count": 20,
   "id": "a5de82b2",
   "metadata": {},
   "outputs": [],
   "source": [
    "cv2.imshow(\"my detected pic\", dphoto)\n",
    "cv2.waitKey()\n",
    "cv2.destroyAllWindows()"
   ]
  },
  {
   "cell_type": "code",
   "execution_count": null,
   "id": "ad54c8d2",
   "metadata": {},
   "outputs": [],
   "source": []
  }
 ],
 "metadata": {
  "kernelspec": {
   "display_name": "Python 3",
   "language": "python",
   "name": "python3"
  },
  "language_info": {
   "codemirror_mode": {
    "name": "ipython",
    "version": 3
   },
   "file_extension": ".py",
   "mimetype": "text/x-python",
   "name": "python",
   "nbconvert_exporter": "python",
   "pygments_lexer": "ipython3",
   "version": "3.8.8"
  }
 },
 "nbformat": 4,
 "nbformat_minor": 5
}
