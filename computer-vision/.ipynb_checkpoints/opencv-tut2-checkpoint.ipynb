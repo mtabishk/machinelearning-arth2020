{
 "cells": [
  {
   "cell_type": "code",
   "execution_count": 1,
   "id": "57bb87b8",
   "metadata": {},
   "outputs": [],
   "source": [
    "import cv2"
   ]
  },
  {
   "cell_type": "code",
   "execution_count": 2,
   "id": "fb40a534",
   "metadata": {},
   "outputs": [],
   "source": [
    "photo = cv2.imread(\"myimage.jpg\")"
   ]
  },
  {
   "cell_type": "code",
   "execution_count": null,
   "id": "101e3c1d",
   "metadata": {},
   "outputs": [],
   "source": [
    "cv2.imshow(\"pic\", photo)\n",
    "cv2.waitKey()\n",
    "cv2.destroyAllWindows()"
   ]
  },
  {
   "cell_type": "code",
   "execution_count": null,
   "id": "430fe599",
   "metadata": {},
   "outputs": [],
   "source": [
    "# image is 3D array\n",
    "photo.shape"
   ]
  },
  {
   "cell_type": "code",
   "execution_count": null,
   "id": "60bea449",
   "metadata": {},
   "outputs": [],
   "source": [
    "photo[0][0] = [0,255,0]"
   ]
  },
  {
   "cell_type": "code",
   "execution_count": null,
   "id": "439e83cd",
   "metadata": {},
   "outputs": [],
   "source": [
    "photo[0][0]"
   ]
  },
  {
   "cell_type": "code",
   "execution_count": null,
   "id": "33fde0e7",
   "metadata": {},
   "outputs": [],
   "source": [
    "photo"
   ]
  },
  {
   "cell_type": "code",
   "execution_count": null,
   "id": "ad0b721b",
   "metadata": {},
   "outputs": [],
   "source": [
    "# cropping photo\n",
    "cphoto = photo[100:300, 100:400]"
   ]
  },
  {
   "cell_type": "code",
   "execution_count": null,
   "id": "21688c67",
   "metadata": {},
   "outputs": [],
   "source": [
    "cv2.imshow(\"pic\", cphoto)\n",
    "cv2.waitKey()\n",
    "cv2.destroyAllWindows()"
   ]
  },
  {
   "cell_type": "code",
   "execution_count": null,
   "id": "cc785b74",
   "metadata": {},
   "outputs": [],
   "source": [
    "# convert colorful --> grey image\n",
    "gphoto = cv2.cvtColor(photo, cv2.COLOR_BGR2GRAY)"
   ]
  },
  {
   "cell_type": "code",
   "execution_count": null,
   "id": "377a0bd4",
   "metadata": {},
   "outputs": [],
   "source": [
    "cv2.imshow(\"gpic\", gphoto)\n",
    "cv2.waitKey()\n",
    "cv2.destroyAllWindows()"
   ]
  },
  {
   "cell_type": "code",
   "execution_count": null,
   "id": "e0433b57",
   "metadata": {},
   "outputs": [],
   "source": [
    "# 2D Array\n",
    "gphoto"
   ]
  },
  {
   "cell_type": "code",
   "execution_count": null,
   "id": "1ba81937",
   "metadata": {},
   "outputs": [],
   "source": [
    "gphoto.shape"
   ]
  }
 ],
 "metadata": {
  "kernelspec": {
   "display_name": "Python 3",
   "language": "python",
   "name": "python3"
  },
  "language_info": {
   "codemirror_mode": {
    "name": "ipython",
    "version": 3
   },
   "file_extension": ".py",
   "mimetype": "text/x-python",
   "name": "python",
   "nbconvert_exporter": "python",
   "pygments_lexer": "ipython3",
   "version": "3.8.8"
  }
 },
 "nbformat": 4,
 "nbformat_minor": 5
}
