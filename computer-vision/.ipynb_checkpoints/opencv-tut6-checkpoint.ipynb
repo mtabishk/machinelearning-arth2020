{
 "cells": [
  {
   "cell_type": "code",
   "execution_count": 118,
   "id": "c8c09dc6",
   "metadata": {},
   "outputs": [],
   "source": [
    "import cv2\n",
    "import numpy as np"
   ]
  },
  {
   "cell_type": "code",
   "execution_count": 119,
   "id": "9d71e646",
   "metadata": {},
   "outputs": [],
   "source": [
    "img = cv2.imread('shapes.jpg')\n",
    "imgContour = img.copy()"
   ]
  },
  {
   "cell_type": "markdown",
   "id": "d3ed6fe0",
   "metadata": {},
   "source": [
    "## Contour or Edge Detection"
   ]
  },
  {
   "cell_type": "code",
   "execution_count": 120,
   "id": "28e7a273",
   "metadata": {},
   "outputs": [],
   "source": [
    "imgGray = cv2.cvtColor(img, cv2.COLOR_BGR2GRAY)\n",
    "imgBlur = cv2.GaussianBlur(imgGray, (7,7), 1)"
   ]
  },
  {
   "cell_type": "code",
   "execution_count": 121,
   "id": "bd2d6d4a",
   "metadata": {},
   "outputs": [],
   "source": [
    "imgCanny = cv2.Canny(imgBlur, 50,50) # threshold"
   ]
  },
  {
   "cell_type": "code",
   "execution_count": 122,
   "id": "096c303a",
   "metadata": {},
   "outputs": [],
   "source": [
    "cv2.imshow('Image', imgCanny)\n",
    "cv2.waitKey()\n",
    "cv2.destroyAllWindows()"
   ]
  },
  {
   "cell_type": "code",
   "execution_count": 123,
   "id": "42038acc",
   "metadata": {},
   "outputs": [],
   "source": [
    "# Blank Image\n",
    "imgBlank = np.zeros_like(img)"
   ]
  },
  {
   "cell_type": "code",
   "execution_count": 124,
   "id": "ea808769",
   "metadata": {},
   "outputs": [],
   "source": [
    "def getContours(img):\n",
    "    # retrieval methods: cv2.RETR_EXTERNAL ==> It retrieves the external contours\n",
    "    contours, hierarchy = cv2.findContours(img, cv2.RETR_EXTERNAL, cv2.CHAIN_APPROX_NONE) \n",
    "    for cnt in contours:\n",
    "        area = cv2.contourArea(cnt)\n",
    "        print(area)\n",
    "        cv2.drawContours(imgContour, cnt, -1, (255,0,0), 3)\n",
    "        perimeter = cv2.arcLength(cnt, True) # True: shapes are \n",
    "        print(perimeter)\n",
    "        approx = cv2.approxPolyDP(cnt, 0.02 * perimeter, True)\n",
    "        # no. of verticies of each shape\n",
    "        print(len(approx))\n",
    "        objCorners = len(approx)\n",
    "        # bounding box arround the objects\n",
    "        x,y,w,h = cv2.boundingRect(approx)\n",
    "        if objCorners == 3: \n",
    "            objectType = \"Triangle\"\n",
    "        elif objCorners == 4:\n",
    "            aspRatio = w/float(h)\n",
    "            if aspRatio > 0.95 and aspRatio < 1.05:\n",
    "                objectType = \"Square\"\n",
    "            else:\n",
    "                objectType = \"Rectangle\"\n",
    "        elif objCorners > 4:\n",
    "            objectType = \"Circle\"\n",
    "        else : \n",
    "            objectType = \"None\"\n",
    "        cv2.rectangle(imgContour, (x,y), (x+w, y+h), (0,255,0), 2)\n",
    "        cv2.putText(imgContour, objectType, (x+(w//2)-10, y+(h//2)-10), cv2.FONT_HERSHEY_COMPLEX, 0.5, (255,255,0), 2)"
   ]
  },
  {
   "cell_type": "code",
   "execution_count": 125,
   "id": "cd66caa3",
   "metadata": {},
   "outputs": [
    {
     "name": "stdout",
     "output_type": "stream",
     "text": [
      "12550.5\n",
      "419.0609630346298\n",
      "8\n",
      "26324.0\n",
      "658.8284270763397\n",
      "4\n",
      "8060.5\n",
      "417.88939011096954\n",
      "3\n",
      "21005.0\n",
      "576.4852812290192\n",
      "4\n"
     ]
    }
   ],
   "source": [
    "getContours(imgCanny)"
   ]
  },
  {
   "cell_type": "code",
   "execution_count": 126,
   "id": "767f0ae9",
   "metadata": {},
   "outputs": [],
   "source": [
    "cv2.imshow('Contour Image', imgContour)\n",
    "cv2.waitKey()\n",
    "cv2.destroyAllWindows()"
   ]
  },
  {
   "cell_type": "code",
   "execution_count": null,
   "id": "2cf5838b",
   "metadata": {},
   "outputs": [],
   "source": []
  }
 ],
 "metadata": {
  "kernelspec": {
   "display_name": "Python 3",
   "language": "python",
   "name": "python3"
  },
  "language_info": {
   "codemirror_mode": {
    "name": "ipython",
    "version": 3
   },
   "file_extension": ".py",
   "mimetype": "text/x-python",
   "name": "python",
   "nbconvert_exporter": "python",
   "pygments_lexer": "ipython3",
   "version": "3.8.8"
  }
 },
 "nbformat": 4,
 "nbformat_minor": 5
}
