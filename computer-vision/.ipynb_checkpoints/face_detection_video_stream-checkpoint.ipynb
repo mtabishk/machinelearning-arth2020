{
 "cells": [
  {
   "cell_type": "code",
   "execution_count": 2,
   "id": "db65bcc1",
   "metadata": {},
   "outputs": [],
   "source": [
    "import numpy as np\n",
    "import cv2\n",
    "\n",
    "cap = cv2.VideoCapture(0)\n",
    "cap.set(3, 640)\n",
    "cap.set(4, 480)\n",
    "cap.set(10,100)\n",
    "\n",
    "while(True):\n",
    "    ret, frame = cap.read()\n",
    "    if cap.isOpened() == 0:\n",
    "        cap.open(0)\n",
    "        \n",
    "    # haar cascade for face detection\n",
    "    model = cv2.CascadeClassifier('haarcascade_frontalface_default.xml')\n",
    "    \n",
    "    faces = model.detectMultiScale(frame)\n",
    "    if (len(faces) != 0):\n",
    "        for face in faces:\n",
    "            x1 = face[0]\n",
    "            y1 = face[1]\n",
    "            x2 = x1 + face[2]\n",
    "            y2 = y1 + face[3]\n",
    "            photo = cv2.rectangle(frame, (x1,y1), (x2,y2), [0,255,0], 3)\n",
    "    else:\n",
    "        photo = frame\n",
    "        \n",
    "    photo = cv2.putText(photo, f\"Faces Detected: {len(faces)}\", (50, 50), cv2.FONT_HERSHEY_SIMPLEX, 1, (0, 255, 0), 2, cv2.LINE_AA)\n",
    "    \n",
    "    cv2.imshow('frame', photo)\n",
    "    if cv2.waitKey(1) & 0xFF == ord('q'):\n",
    "        break\n",
    "\n",
    "cap.release()\n",
    "cv2.destroyAllWindows()"
   ]
  },
  {
   "cell_type": "code",
   "execution_count": null,
   "id": "f231fcd9",
   "metadata": {},
   "outputs": [],
   "source": []
  }
 ],
 "metadata": {
  "kernelspec": {
   "display_name": "Python 3",
   "language": "python",
   "name": "python3"
  },
  "language_info": {
   "codemirror_mode": {
    "name": "ipython",
    "version": 3
   },
   "file_extension": ".py",
   "mimetype": "text/x-python",
   "name": "python",
   "nbconvert_exporter": "python",
   "pygments_lexer": "ipython3",
   "version": "3.8.8"
  }
 },
 "nbformat": 4,
 "nbformat_minor": 5
}
