{
 "cells": [
  {
   "cell_type": "code",
   "execution_count": 1,
   "id": "bc29127d",
   "metadata": {},
   "outputs": [],
   "source": [
    "import cv2\n",
    "import numpy as np"
   ]
  },
  {
   "cell_type": "code",
   "execution_count": 2,
   "id": "1f8615a2",
   "metadata": {},
   "outputs": [],
   "source": [
    "#cap = cv2.VideoCapture(0)"
   ]
  },
  {
   "cell_type": "code",
   "execution_count": 3,
   "id": "5ebea50a",
   "metadata": {},
   "outputs": [],
   "source": [
    "# haar cascade for indian license plate\n",
    "cascade = cv2.CascadeClassifier('haarcascade_russian_plate_number.xml')"
   ]
  },
  {
   "cell_type": "code",
   "execution_count": 4,
   "id": "16fae9e7",
   "metadata": {},
   "outputs": [],
   "source": [
    "minArea = 500\n",
    "color = (255,0,255)"
   ]
  },
  {
   "cell_type": "code",
   "execution_count": 5,
   "id": "548f88aa",
   "metadata": {},
   "outputs": [],
   "source": [
    "while True:\n",
    "    img = cv2.imread(\"number_plates/img2.jpg\")\n",
    "    imgGray = cv2.cvtColor(img, cv2.COLOR_BGR2GRAY)\n",
    "    numberPlates = cascade.detectMultiScale(imgGray, 1.1, 4)\n",
    "    \n",
    "    for (x,y,w,h) in numberPlates:\n",
    "        area = w*h\n",
    "        if area > minArea:  \n",
    "            cv2.rectangle(img, (x,y), (x+w, y+h), (255,0,0), 2)\n",
    "            cv2.putText(img, \"Number Plate\", (x,y-5), cv2.FONT_HERSHEY_COMPLEX_SMALL, 1, color, 2)\n",
    "            #img = img[y:y+h, x:x+w] #  Region of intrest : region of number plate\n",
    "            \n",
    "        cv2.imshow(\"result\", img)\n",
    "\n",
    "    if cv2.waitKey(1) & 0xFF == ord('q'):\n",
    "        break\n",
    "cv2.destroyAllWindows()"
   ]
  },
  {
   "cell_type": "code",
   "execution_count": null,
   "id": "1a9c8eb7",
   "metadata": {},
   "outputs": [],
   "source": []
  }
 ],
 "metadata": {
  "kernelspec": {
   "display_name": "Python 3",
   "language": "python",
   "name": "python3"
  },
  "language_info": {
   "codemirror_mode": {
    "name": "ipython",
    "version": 3
   },
   "file_extension": ".py",
   "mimetype": "text/x-python",
   "name": "python",
   "nbconvert_exporter": "python",
   "pygments_lexer": "ipython3",
   "version": "3.6.13"
  }
 },
 "nbformat": 4,
 "nbformat_minor": 5
}
