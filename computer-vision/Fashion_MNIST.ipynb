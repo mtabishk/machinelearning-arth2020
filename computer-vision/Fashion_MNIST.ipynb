{
  "nbformat": 4,
  "nbformat_minor": 0,
  "metadata": {
    "kernelspec": {
      "display_name": "Python 3",
      "language": "python",
      "name": "python3"
    },
    "language_info": {
      "codemirror_mode": {
        "name": "ipython",
        "version": 3
      },
      "file_extension": ".py",
      "mimetype": "text/x-python",
      "name": "python",
      "nbconvert_exporter": "python",
      "pygments_lexer": "ipython3",
      "version": "3.8.8"
    },
    "colab": {
      "name": "Fashion MNIST.ipynb",
      "provenance": []
    }
  },
  "cells": [
    {
      "cell_type": "markdown",
      "metadata": {
        "id": "giUNvczCZSDk"
      },
      "source": [
        "### Fashion MNIST"
      ]
    },
    {
      "cell_type": "markdown",
      "metadata": {
        "id": "umhmcSEqZSDl"
      },
      "source": [
        "### After downloading our dataset we see it's coded in the ubyte form\n",
        "- We then use the following function to read the data and return it as a numpy array"
      ]
    },
    {
      "cell_type": "code",
      "metadata": {
        "id": "FibgLLr7ZSDl"
      },
      "source": [
        "import struct\n",
        "import numpy as np\n",
        "\n",
        "def read_idx(filename):\n",
        "    \"\"\"Credit: https://gist.github.com/tylerneylon\"\"\"\n",
        "    with open(filename, 'rb') as f:\n",
        "        zero, data_type, dims = struct.unpack('>HBB', f.read(4))\n",
        "        shape = tuple(struct.unpack('>I', f.read(4))[0] for d in range(dims))\n",
        "        return np.frombuffer(f.read(), dtype=np.uint8).reshape(shape)"
      ],
      "execution_count": null,
      "outputs": []
    },
    {
      "cell_type": "markdown",
      "metadata": {
        "id": "CxJsAh-RZSDl"
      },
      "source": [
        "### We use the function to extact our training and test datasets"
      ]
    },
    {
      "cell_type": "code",
      "metadata": {
        "id": "IEyDJVjAZSDm"
      },
      "source": [
        "x_train = read_idx(\"./fashion_mnist/train-images-idx3-ubyte\")\n",
        "y_train = read_idx(\"./fashion_mnist/train-labels-idx1-ubyte\")\n",
        "x_test = read_idx(\"./fashion_mnist/t10k-images-idx3-ubyte\")\n",
        "y_test = read_idx(\"./fashion_mnist/t10k-labels-idx1-ubyte\")"
      ],
      "execution_count": null,
      "outputs": []
    },
    {
      "cell_type": "code",
      "metadata": {
        "id": "41-dWoI1ZSDm",
        "outputId": "e25eb4bb-a9f8-4f9f-8c4f-289bb1e04ba9"
      },
      "source": [
        "y_test.shape"
      ],
      "execution_count": null,
      "outputs": [
        {
          "output_type": "execute_result",
          "data": {
            "text/plain": [
              "(10000,)"
            ]
          },
          "metadata": {
            "tags": []
          },
          "execution_count": 5
        }
      ]
    },
    {
      "cell_type": "markdown",
      "metadata": {
        "id": "liA0PYSCZSDm"
      },
      "source": [
        "### Let's inspect our dataset"
      ]
    },
    {
      "cell_type": "code",
      "metadata": {
        "id": "cWph50ahZSDn",
        "outputId": "34e72ebb-0719-436d-e0e9-16f2a9290d5b"
      },
      "source": [
        "# printing the number of samples in x_train, x_test, y_train, y_test\n",
        "print(\"Initial shape or dimensions of x_train\", str(x_train.shape))\n",
        "\n",
        "print (\"Number of samples in our training data: \" + str(len(x_train)))\n",
        "print (\"Number of labels in our training data: \" + str(len(y_train)))\n",
        "print (\"Number of samples in our test data: \" + str(len(x_test)))\n",
        "print (\"Number of labels in our test data: \" + str(len(y_test)))\n",
        "print()\n",
        "print (\"Dimensions of x_train:\" + str(x_train[0].shape))\n",
        "print (\"Labels in x_train:\" + str(y_train.shape))\n",
        "print()\n",
        "print (\"Dimensions of x_test:\" + str(x_test[0].shape))\n",
        "print (\"Labels in y_test:\" + str(y_test.shape))"
      ],
      "execution_count": null,
      "outputs": [
        {
          "output_type": "stream",
          "text": [
            "Initial shape or dimensions of x_train (60000, 28, 28)\n",
            "Number of samples in our training data: 60000\n",
            "Number of labels in our training data: 60000\n",
            "Number of samples in our test data: 10000\n",
            "Number of labels in our test data: 10000\n",
            "\n",
            "Dimensions of x_train:(28, 28)\n",
            "Labels in x_train:(60000,)\n",
            "\n",
            "Dimensions of x_test:(28, 28)\n",
            "Labels in y_test:(10000,)\n"
          ],
          "name": "stdout"
        }
      ]
    },
    {
      "cell_type": "code",
      "metadata": {
        "id": "A-5-nvRQZSDn"
      },
      "source": [
        "import numpy"
      ],
      "execution_count": null,
      "outputs": []
    },
    {
      "cell_type": "code",
      "metadata": {
        "id": "CG4I8lmEZSDo",
        "outputId": "4bc57553-ba5a-4e02-b9f5-2355fa05d66f"
      },
      "source": [
        "np.random.randint(0, 60000)"
      ],
      "execution_count": null,
      "outputs": [
        {
          "output_type": "execute_result",
          "data": {
            "text/plain": [
              "5765"
            ]
          },
          "metadata": {
            "tags": []
          },
          "execution_count": 20
        }
      ]
    },
    {
      "cell_type": "code",
      "metadata": {
        "id": "wt1Xz_A8ZSDo",
        "outputId": "770fbb95-bcdc-40bc-f119-80aa85027b3d"
      },
      "source": [
        "len(x_train)"
      ],
      "execution_count": null,
      "outputs": [
        {
          "output_type": "execute_result",
          "data": {
            "text/plain": [
              "60000"
            ]
          },
          "metadata": {
            "tags": []
          },
          "execution_count": 16
        }
      ]
    },
    {
      "cell_type": "markdown",
      "metadata": {
        "id": "DPNr-llbZSDo"
      },
      "source": [
        "### Let's view some sample images"
      ]
    },
    {
      "cell_type": "code",
      "metadata": {
        "id": "-r89wgmQZSDo",
        "outputId": "5cb7e5c5-e16b-4a35-bc12-bfac2acc799e"
      },
      "source": [
        "# Let's do the same thing but using matplotlib to plot 6 images \n",
        "import matplotlib.pyplot as plt\n",
        "\n",
        "# Plots 6 images, note subplot's arugments are nrows,ncols,index\n",
        "# we set the color map to grey since our image dataset is grayscale\n",
        "plt.subplot(331)\n",
        "random_num = np.random.randint(0,len(x_train))\n",
        "plt.imshow(x_train[random_num], cmap=plt.get_cmap('gray'))\n",
        "\n",
        "plt.subplot(332)\n",
        "random_num = np.random.randint(0,len(x_train))\n",
        "plt.imshow(x_train[random_num], cmap=plt.get_cmap('gray'))\n",
        "\n",
        "plt.subplot(333)\n",
        "random_num = np.random.randint(0,len(x_train))\n",
        "plt.imshow(x_train[random_num], cmap=plt.get_cmap('gray'))\n",
        "\n",
        "plt.subplot(334)\n",
        "random_num = np.random.randint(0,len(x_train))\n",
        "plt.imshow(x_train[random_num], cmap=plt.get_cmap('gray'))\n",
        "\n",
        "plt.subplot(335)\n",
        "random_num = np.random.randint(0,len(x_train))\n",
        "plt.imshow(x_train[random_num], cmap=plt.get_cmap('gray'))\n",
        "\n",
        "plt.subplot(336)\n",
        "random_num = np.random.randint(0,len(x_train))\n",
        "plt.imshow(x_train[random_num], cmap=plt.get_cmap('gray'))\n",
        "\n",
        "# Display out plots\n",
        "plt.show()"
      ],
      "execution_count": null,
      "outputs": [
        {
          "output_type": "display_data",
          "data": {
            "image/png": "[encoded data removed]",
            "text/plain": [
              "<Figure size 432x288 with 6 Axes>"
            ]
          },
          "metadata": {
            "tags": [],
            "needs_background": "light"
          }
        }
      ]
    },
    {
      "cell_type": "markdown",
      "metadata": {
        "id": "u3arcrArZSDp"
      },
      "source": [
        "### Let's create our model"
      ]
    },
    {
      "cell_type": "code",
      "metadata": {
        "id": "ukh_dDVjZSDp",
        "outputId": "b43f595e-8ad5-4599-eed6-69b19fda8f82"
      },
      "source": [
        "# from keras.datasets import mnist\n",
        "from keras.utils import np_utils\n",
        "import keras\n",
        "# from keras.datasets import mnist\n",
        "from keras.models import Sequential\n",
        "from keras.layers import Dense, Dropout, Flatten\n",
        "from keras.layers import Conv2D, MaxPooling2D, BatchNormalization\n",
        "from keras import backend as K\n",
        "\n",
        "# Training Parameters\n",
        "batch_size = 128\n",
        "epochs = 3\n",
        "\n",
        "# Lets store the number of rows and columns\n",
        "img_rows = x_train[0].shape[0]\n",
        "img_cols = x_train[1].shape[0]\n",
        "\n",
        "# Getting our date in the right 'shape' needed for Keras\n",
        "# We need to add a 4th dimenion to our date thereby changing our\n",
        "# Our original image shape of (60000,28,28) to (60000,28,28,1)\n",
        "x_train = x_train.reshape(x_train.shape[0], img_rows, img_cols, 1)\n",
        "x_test = x_test.reshape(x_test.shape[0], img_rows, img_cols, 1)\n",
        "\n",
        "# store the shape of a single image \n",
        "input_shape = (img_rows, img_cols, 1)\n",
        "\n",
        "# change our image type to float32 data type\n",
        "x_train = x_train.astype('float32')\n",
        "x_test = x_test.astype('float32')\n",
        "\n",
        "# Normalize our data by changing the range from (0 to 255) to (0 to 1)\n",
        "x_train /= 255\n",
        "x_test /= 255\n",
        "\n",
        "print('x_train shape:', x_train.shape)\n",
        "print(x_train.shape[0], 'train samples')\n",
        "print(x_test.shape[0], 'test samples')\n",
        "\n",
        "# Now we one hot encode outputs\n",
        "y_train = np_utils.to_categorical(y_train)\n",
        "y_test = np_utils.to_categorical(y_test)\n",
        "\n",
        "# Let's count the number columns in our hot encoded matrix \n",
        "print (\"Number of Classes: \" + str(y_test.shape[1]))\n",
        "\n",
        "num_classes = y_test.shape[1]\n",
        "num_pixels = x_train.shape[1] * x_train.shape[2]\n",
        "\n",
        "# create model\n",
        "model = Sequential()\n",
        "\n",
        "model.add(Conv2D(32, kernel_size=(3, 3),\n",
        "                 activation='relu',\n",
        "                 input_shape=input_shape))\n",
        "model.add(BatchNormalization())\n",
        "\n",
        "model.add(Conv2D(64, (3, 3), activation='relu'))\n",
        "model.add(BatchNormalization())\n",
        "\n",
        "model.add(MaxPooling2D(pool_size=(2, 2)))\n",
        "model.add(Dropout(0.25))\n",
        "\n",
        "model.add(Flatten())\n",
        "model.add(Dense(128, activation='relu'))\n",
        "model.add(BatchNormalization())\n",
        "\n",
        "model.add(Dropout(0.5))\n",
        "model.add(Dense(num_classes, activation='softmax'))\n",
        "\n",
        "model.compile(loss = 'categorical_crossentropy',\n",
        "              optimizer = keras.optimizers.Adadelta(),\n",
        "              metrics = ['accuracy'])\n",
        "\n",
        "print(model.summary())"
      ],
      "execution_count": null,
      "outputs": [
        {
          "output_type": "stream",
          "text": [
            "x_train shape: (60000, 28, 28, 1)\n",
            "60000 train samples\n",
            "10000 test samples\n",
            "Number of Classes: 10\n",
            "Model: \"sequential\"\n",
            "_________________________________________________________________\n",
            "Layer (type)                 Output Shape              Param #   \n",
            "=================================================================\n",
            "conv2d (Conv2D)              (None, 26, 26, 32)        320       \n",
            "_________________________________________________________________\n",
            "batch_normalization (BatchNo (None, 26, 26, 32)        128       \n",
            "_________________________________________________________________\n",
            "conv2d_1 (Conv2D)            (None, 24, 24, 64)        18496     \n",
            "_________________________________________________________________\n",
            "batch_normalization_1 (Batch (None, 24, 24, 64)        256       \n",
            "_________________________________________________________________\n",
            "max_pooling2d (MaxPooling2D) (None, 12, 12, 64)        0         \n",
            "_________________________________________________________________\n",
            "dropout (Dropout)            (None, 12, 12, 64)        0         \n",
            "_________________________________________________________________\n",
            "flatten (Flatten)            (None, 9216)              0         \n",
            "_________________________________________________________________\n",
            "dense (Dense)                (None, 128)               1179776   \n",
            "_________________________________________________________________\n",
            "batch_normalization_2 (Batch (None, 128)               512       \n",
            "_________________________________________________________________\n",
            "dropout_1 (Dropout)          (None, 128)               0         \n",
            "_________________________________________________________________\n",
            "dense_1 (Dense)              (None, 10)                1290      \n",
            "=================================================================\n",
            "Total params: 1,200,778\n",
            "Trainable params: 1,200,330\n",
            "Non-trainable params: 448\n",
            "_________________________________________________________________\n",
            "None\n"
          ],
          "name": "stdout"
        }
      ]
    },
    {
      "cell_type": "markdown",
      "metadata": {
        "id": "h5ii5BOzZSDq"
      },
      "source": [
        "### Let's train our model"
      ]
    },
    {
      "cell_type": "code",
      "metadata": {
        "id": "1ca5-U39ZSDq",
        "outputId": "d304db48-9bc6-450d-d4b3-6747af954697"
      },
      "source": [
        "history = model.fit(x_train, y_train,\n",
        "          batch_size=batch_size,\n",
        "          epochs=epochs,\n",
        "          verbose=1,\n",
        "          validation_data=(x_test, y_test))\n",
        "\n",
        "score = model.evaluate(x_test, y_test, verbose=0)\n",
        "print('Test loss:', score[0])\n",
        "print('Test accuracy:', score[1])"
      ],
      "execution_count": null,
      "outputs": [
        {
          "output_type": "stream",
          "text": [
            "Epoch 1/3\n",
            "469/469 [==============================] - 172s 323ms/step - loss: 3.0607 - accuracy: 0.1810 - val_loss: 1.4588 - val_accuracy: 0.4954\n",
            "Epoch 2/3\n",
            "469/469 [==============================] - 145s 310ms/step - loss: 1.6446 - accuracy: 0.4707 - val_loss: 0.8284 - val_accuracy: 0.7150\n",
            "Epoch 3/3\n",
            "469/469 [==============================] - 150s 320ms/step - loss: 1.2653 - accuracy: 0.5895 - val_loss: 0.7298 - val_accuracy: 0.7435\n",
            "Test loss: 0.7298312783241272\n",
            "Test accuracy: 0.7434999942779541\n"
          ],
          "name": "stdout"
        }
      ]
    },
    {
      "cell_type": "markdown",
      "metadata": {
        "id": "AEYlCMq7ZSDr"
      },
      "source": [
        "### Let's test out our model"
      ]
    },
    {
      "cell_type": "code",
      "metadata": {
        "id": "f-WayMpHZSDr"
      },
      "source": [
        ""
      ],
      "execution_count": null,
      "outputs": []
    },
    {
      "cell_type": "code",
      "metadata": {
        "id": "tiBbeByAZSDr"
      },
      "source": [
        ""
      ],
      "execution_count": null,
      "outputs": []
    },
    {
      "cell_type": "code",
      "metadata": {
        "id": "J5gOpoHRZSDr"
      },
      "source": [
        "import cv2\n",
        "import numpy as np\n",
        "\n",
        "def getLabel(input_class):\n",
        "    number = int(input_class)\n",
        "    if number == 0:\n",
        "        return \"T-shirt/top \"\n",
        "    if number == 1:\n",
        "        return \"Trouser\"\n",
        "    if number == 2:\n",
        "        return \"Pullover\"\n",
        "    if number == 3:\n",
        "        return \"Dress\"\n",
        "    if number == 4:\n",
        "        return \"Coat\"\n",
        "    if number == 5:\n",
        "        return \"Sandal\"\n",
        "    if number == 6:\n",
        "        return \"Shirt\"\n",
        "    if number == 7:\n",
        "        return \"Sneaker\"\n",
        "    if number == 8:\n",
        "        return \"Bag\"\n",
        "    if number == 9:\n",
        "        return \"Ankle boot\"\n",
        "\n",
        "def draw_test(name, pred, actual, input_im):\n",
        "    BLACK = [0,0,0]\n",
        "\n",
        "    res = getLabel(pred)\n",
        "    actual = getLabel(actual)   \n",
        "    expanded_image = cv2.copyMakeBorder(input_im, 0, 0, 0, 4*imageL.shape[0] ,cv2.BORDER_CONSTANT,value=BLACK)\n",
        "    expanded_image = cv2.cvtColor(expanded_image, cv2.COLOR_GRAY2BGR)\n",
        "    cv2.putText(expanded_image, \"Predicted - \" + str(res), (152, 70) , cv2.FONT_HERSHEY_COMPLEX_SMALL,1, (0,255,0), 1)\n",
        "    cv2.putText(expanded_image, \"   Actual - \" + str(actual), (152, 90) , cv2.FONT_HERSHEY_COMPLEX_SMALL,1, (0,0,255), 1)\n",
        "    cv2.imshow(name, expanded_image)\n",
        "\n",
        "\n",
        "for i in range(0,10):\n",
        "    rand = np.random.randint(0,len(x_test))\n",
        "    input_im = x_test[rand]\n",
        "    actual = y_test[rand].argmax(axis=0)\n",
        "    imageL = cv2.resize(input_im, None, fx=4, fy=4, interpolation = cv2.INTER_CUBIC)\n",
        "    input_im = input_im.reshape(1,28,28,1) \n",
        "    \n",
        "    ## Get Prediction\n",
        "    res = str(model.predict_classes(input_im, 1, verbose = 0)[0])\n",
        "\n",
        "    draw_test(\"Prediction\", res, actual, imageL) \n",
        "    cv2.waitKey(0)\n",
        "\n",
        "cv2.destroyAllWindows()"
      ],
      "execution_count": null,
      "outputs": []
    },
    {
      "cell_type": "code",
      "metadata": {
        "id": "Avn6o933ZSDs"
      },
      "source": [
        ""
      ],
      "execution_count": null,
      "outputs": []
    },
    {
      "cell_type": "code",
      "metadata": {
        "id": "LZhseXjxZSDs"
      },
      "source": [
        ""
      ],
      "execution_count": null,
      "outputs": []
    },
    {
      "cell_type": "code",
      "metadata": {
        "id": "J1hh_3FCZSDs"
      },
      "source": [
        ""
      ],
      "execution_count": null,
      "outputs": []
    },
    {
      "cell_type": "code",
      "metadata": {
        "id": "AjTyB6ztZSDs"
      },
      "source": [
        ""
      ],
      "execution_count": null,
      "outputs": []
    }
  ]
}