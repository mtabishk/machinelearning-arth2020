{
 "cells": [
  {
   "cell_type": "code",
   "execution_count": 1,
   "id": "471369d6",
   "metadata": {},
   "outputs": [
    {
     "name": "stdout",
     "output_type": "stream",
     "text": [
      "Requirement already satisfied: spacy in c:\\users\\mtabishk\\anaconda3\\lib\\site-packages (3.1.0)\n",
      "Requirement already satisfied: murmurhash<1.1.0,>=0.28.0 in c:\\users\\mtabishk\\anaconda3\\lib\\site-packages (from spacy) (1.0.5)\n",
      "Requirement already satisfied: srsly<3.0.0,>=2.4.1 in c:\\users\\mtabishk\\anaconda3\\lib\\site-packages (from spacy) (2.4.1)\n",
      "Requirement already satisfied: typer<0.4.0,>=0.3.0 in c:\\users\\mtabishk\\anaconda3\\lib\\site-packages (from spacy) (0.3.2)\n",
      "Requirement already satisfied: jinja2 in c:\\users\\mtabishk\\anaconda3\\lib\\site-packages (from spacy) (3.0.1)\n",
      "Requirement already satisfied: pathy>=0.3.5 in c:\\users\\mtabishk\\anaconda3\\lib\\site-packages (from spacy) (0.6.0)\n",
      "Requirement already satisfied: setuptools in c:\\users\\mtabishk\\anaconda3\\lib\\site-packages (from spacy) (52.0.0.post20210125)\n",
      "Requirement already satisfied: catalogue<2.1.0,>=2.0.4 in c:\\users\\mtabishk\\anaconda3\\lib\\site-packages (from spacy) (2.0.4)\n",
      "Requirement already satisfied: numpy>=1.15.0 in c:\\users\\mtabishk\\anaconda3\\lib\\site-packages (from spacy) (1.20.2)\n",
      "Requirement already satisfied: tqdm<5.0.0,>=4.38.0 in c:\\users\\mtabishk\\anaconda3\\lib\\site-packages (from spacy) (4.61.2)\n",
      "Requirement already satisfied: preshed<3.1.0,>=3.0.2 in c:\\users\\mtabishk\\anaconda3\\lib\\site-packages (from spacy) (3.0.5)\n",
      "Requirement already satisfied: pydantic!=1.8,!=1.8.1,<1.9.0,>=1.7.4 in c:\\users\\mtabishk\\anaconda3\\lib\\site-packages (from spacy) (1.8.2)\n",
      "Requirement already satisfied: spacy-legacy<3.1.0,>=3.0.7 in c:\\users\\mtabishk\\anaconda3\\lib\\site-packages (from spacy) (3.0.8)\n",
      "Requirement already satisfied: thinc<8.1.0,>=8.0.7 in c:\\users\\mtabishk\\anaconda3\\lib\\site-packages (from spacy) (8.0.7)\n",
      "Requirement already satisfied: cymem<2.1.0,>=2.0.2 in c:\\users\\mtabishk\\anaconda3\\lib\\site-packages (from spacy) (2.0.5)\n",
      "Requirement already satisfied: requests<3.0.0,>=2.13.0 in c:\\users\\mtabishk\\anaconda3\\lib\\site-packages (from spacy) (2.25.1)\n",
      "Requirement already satisfied: packaging>=20.0 in c:\\users\\mtabishk\\anaconda3\\lib\\site-packages (from spacy) (21.0)\n",
      "Requirement already satisfied: wasabi<1.1.0,>=0.8.1 in c:\\users\\mtabishk\\anaconda3\\lib\\site-packages (from spacy) (0.8.2)\n",
      "Requirement already satisfied: blis<0.8.0,>=0.4.0 in c:\\users\\mtabishk\\anaconda3\\lib\\site-packages (from spacy) (0.7.4)\n",
      "Requirement already satisfied: pyparsing>=2.0.2 in c:\\users\\mtabishk\\anaconda3\\lib\\site-packages (from packaging>=20.0->spacy) (2.4.7)\n",
      "Requirement already satisfied: smart-open<6.0.0,>=5.0.0 in c:\\users\\mtabishk\\anaconda3\\lib\\site-packages (from pathy>=0.3.5->spacy) (5.1.0)\n",
      "Requirement already satisfied: typing-extensions>=3.7.4.3 in c:\\users\\mtabishk\\anaconda3\\lib\\site-packages (from pydantic!=1.8,!=1.8.1,<1.9.0,>=1.7.4->spacy) (3.10.0.0)\n",
      "Requirement already satisfied: urllib3<1.27,>=1.21.1 in c:\\users\\mtabishk\\anaconda3\\lib\\site-packages (from requests<3.0.0,>=2.13.0->spacy) (1.26.6)\n",
      "Requirement already satisfied: idna<3,>=2.5 in c:\\users\\mtabishk\\anaconda3\\lib\\site-packages (from requests<3.0.0,>=2.13.0->spacy) (2.10)\n",
      "Requirement already satisfied: certifi>=2017.4.17 in c:\\users\\mtabishk\\anaconda3\\lib\\site-packages (from requests<3.0.0,>=2.13.0->spacy) (2021.5.30)\n",
      "Requirement already satisfied: chardet<5,>=3.0.2 in c:\\users\\mtabishk\\anaconda3\\lib\\site-packages (from requests<3.0.0,>=2.13.0->spacy) (4.0.0)\n",
      "Requirement already satisfied: colorama in c:\\users\\mtabishk\\anaconda3\\lib\\site-packages (from tqdm<5.0.0,>=4.38.0->spacy) (0.4.4)\n",
      "Requirement already satisfied: click<7.2.0,>=7.1.1 in c:\\users\\mtabishk\\anaconda3\\lib\\site-packages (from typer<0.4.0,>=0.3.0->spacy) (7.1.2)\n",
      "Requirement already satisfied: MarkupSafe>=2.0 in c:\\users\\mtabishk\\anaconda3\\lib\\site-packages (from jinja2->spacy) (2.0.1)\n",
      "Collecting en-core-web-sm==3.1.0\n",
      "  Downloading https://github.com/explosion/spacy-models/releases/download/en_core_web_sm-3.1.0/en_core_web_sm-3.1.0-py3-none-any.whl (13.6 MB)\n",
      "Requirement already satisfied: spacy<3.2.0,>=3.1.0 in c:\\users\\mtabishk\\anaconda3\\lib\\site-packages (from en-core-web-sm==3.1.0) (3.1.0)\n",
      "Requirement already satisfied: preshed<3.1.0,>=3.0.2 in c:\\users\\mtabishk\\anaconda3\\lib\\site-packages (from spacy<3.2.0,>=3.1.0->en-core-web-sm==3.1.0) (3.0.5)\n",
      "Requirement already satisfied: packaging>=20.0 in c:\\users\\mtabishk\\anaconda3\\lib\\site-packages (from spacy<3.2.0,>=3.1.0->en-core-web-sm==3.1.0) (21.0)\n",
      "Requirement already satisfied: srsly<3.0.0,>=2.4.1 in c:\\users\\mtabishk\\anaconda3\\lib\\site-packages (from spacy<3.2.0,>=3.1.0->en-core-web-sm==3.1.0) (2.4.1)\n",
      "Requirement already satisfied: requests<3.0.0,>=2.13.0 in c:\\users\\mtabishk\\anaconda3\\lib\\site-packages (from spacy<3.2.0,>=3.1.0->en-core-web-sm==3.1.0) (2.25.1)\n",
      "Requirement already satisfied: thinc<8.1.0,>=8.0.7 in c:\\users\\mtabishk\\anaconda3\\lib\\site-packages (from spacy<3.2.0,>=3.1.0->en-core-web-sm==3.1.0) (8.0.7)\n",
      "Requirement already satisfied: blis<0.8.0,>=0.4.0 in c:\\users\\mtabishk\\anaconda3\\lib\\site-packages (from spacy<3.2.0,>=3.1.0->en-core-web-sm==3.1.0) (0.7.4)\n",
      "Requirement already satisfied: spacy-legacy<3.1.0,>=3.0.7 in c:\\users\\mtabishk\\anaconda3\\lib\\site-packages (from spacy<3.2.0,>=3.1.0->en-core-web-sm==3.1.0) (3.0.8)\n",
      "Requirement already satisfied: pathy>=0.3.5 in c:\\users\\mtabishk\\anaconda3\\lib\\site-packages (from spacy<3.2.0,>=3.1.0->en-core-web-sm==3.1.0) (0.6.0)\n",
      "Requirement already satisfied: numpy>=1.15.0 in c:\\users\\mtabishk\\anaconda3\\lib\\site-packages (from spacy<3.2.0,>=3.1.0->en-core-web-sm==3.1.0) (1.20.2)\n",
      "Requirement already satisfied: cymem<2.1.0,>=2.0.2 in c:\\users\\mtabishk\\anaconda3\\lib\\site-packages (from spacy<3.2.0,>=3.1.0->en-core-web-sm==3.1.0) (2.0.5)\n",
      "Requirement already satisfied: jinja2 in c:\\users\\mtabishk\\anaconda3\\lib\\site-packages (from spacy<3.2.0,>=3.1.0->en-core-web-sm==3.1.0) (3.0.1)\n",
      "Requirement already satisfied: catalogue<2.1.0,>=2.0.4 in c:\\users\\mtabishk\\anaconda3\\lib\\site-packages (from spacy<3.2.0,>=3.1.0->en-core-web-sm==3.1.0) (2.0.4)\n"
     ]
    },
    {
     "name": "stderr",
     "output_type": "stream",
     "text": [
      "2021-07-11 12:16:16.166439: I tensorflow/stream_executor/platform/default/dso_loader.cc:53] Successfully opened dynamic library cudart64_110.dll\n"
     ]
    },
    {
     "name": "stdout",
     "output_type": "stream",
     "text": [
      "Requirement already satisfied: pydantic!=1.8,!=1.8.1,<1.9.0,>=1.7.4 in c:\\users\\mtabishk\\anaconda3\\lib\\site-packages (from spacy<3.2.0,>=3.1.0->en-core-web-sm==3.1.0) (1.8.2)\n",
      "Requirement already satisfied: setuptools in c:\\users\\mtabishk\\anaconda3\\lib\\site-packages (from spacy<3.2.0,>=3.1.0->en-core-web-sm==3.1.0) (52.0.0.post20210125)\n",
      "Requirement already satisfied: murmurhash<1.1.0,>=0.28.0 in c:\\users\\mtabishk\\anaconda3\\lib\\site-packages (from spacy<3.2.0,>=3.1.0->en-core-web-sm==3.1.0) (1.0.5)\n",
      "Requirement already satisfied: wasabi<1.1.0,>=0.8.1 in c:\\users\\mtabishk\\anaconda3\\lib\\site-packages (from spacy<3.2.0,>=3.1.0->en-core-web-sm==3.1.0) (0.8.2)\n",
      "Requirement already satisfied: tqdm<5.0.0,>=4.38.0 in c:\\users\\mtabishk\\anaconda3\\lib\\site-packages (from spacy<3.2.0,>=3.1.0->en-core-web-sm==3.1.0) (4.61.2)\n",
      "Requirement already satisfied: typer<0.4.0,>=0.3.0 in c:\\users\\mtabishk\\anaconda3\\lib\\site-packages (from spacy<3.2.0,>=3.1.0->en-core-web-sm==3.1.0) (0.3.2)\n",
      "Requirement already satisfied: pyparsing>=2.0.2 in c:\\users\\mtabishk\\anaconda3\\lib\\site-packages (from packaging>=20.0->spacy<3.2.0,>=3.1.0->en-core-web-sm==3.1.0) (2.4.7)\n",
      "Requirement already satisfied: smart-open<6.0.0,>=5.0.0 in c:\\users\\mtabishk\\anaconda3\\lib\\site-packages (from pathy>=0.3.5->spacy<3.2.0,>=3.1.0->en-core-web-sm==3.1.0) (5.1.0)\n",
      "Requirement already satisfied: typing-extensions>=3.7.4.3 in c:\\users\\mtabishk\\anaconda3\\lib\\site-packages (from pydantic!=1.8,!=1.8.1,<1.9.0,>=1.7.4->spacy<3.2.0,>=3.1.0->en-core-web-sm==3.1.0) (3.10.0.0)\n",
      "Requirement already satisfied: idna<3,>=2.5 in c:\\users\\mtabishk\\anaconda3\\lib\\site-packages (from requests<3.0.0,>=2.13.0->spacy<3.2.0,>=3.1.0->en-core-web-sm==3.1.0) (2.10)\n",
      "Requirement already satisfied: chardet<5,>=3.0.2 in c:\\users\\mtabishk\\anaconda3\\lib\\site-packages (from requests<3.0.0,>=2.13.0->spacy<3.2.0,>=3.1.0->en-core-web-sm==3.1.0) (4.0.0)\n",
      "Requirement already satisfied: certifi>=2017.4.17 in c:\\users\\mtabishk\\anaconda3\\lib\\site-packages (from requests<3.0.0,>=2.13.0->spacy<3.2.0,>=3.1.0->en-core-web-sm==3.1.0) (2021.5.30)\n",
      "Requirement already satisfied: urllib3<1.27,>=1.21.1 in c:\\users\\mtabishk\\anaconda3\\lib\\site-packages (from requests<3.0.0,>=2.13.0->spacy<3.2.0,>=3.1.0->en-core-web-sm==3.1.0) (1.26.6)\n",
      "Requirement already satisfied: colorama in c:\\users\\mtabishk\\anaconda3\\lib\\site-packages (from tqdm<5.0.0,>=4.38.0->spacy<3.2.0,>=3.1.0->en-core-web-sm==3.1.0) (0.4.4)\n",
      "Requirement already satisfied: click<7.2.0,>=7.1.1 in c:\\users\\mtabishk\\anaconda3\\lib\\site-packages (from typer<0.4.0,>=0.3.0->spacy<3.2.0,>=3.1.0->en-core-web-sm==3.1.0) (7.1.2)\n",
      "Requirement already satisfied: MarkupSafe>=2.0 in c:\\users\\mtabishk\\anaconda3\\lib\\site-packages (from jinja2->spacy<3.2.0,>=3.1.0->en-core-web-sm==3.1.0) (2.0.1)\n",
      "[!] As of spaCy v3.0, shortcuts like 'en' are deprecated. Please use the full\n",
      "pipeline package name 'en_core_web_sm' instead.\n",
      "[+] Download and installation successful\n",
      "You can now load the package via spacy.load('en_core_web_sm')\n"
     ]
    }
   ],
   "source": [
    "import sys\n",
    "!{sys.executable} -m pip install spacy\n",
    "!{sys.executable} -m spacy download en"
   ]
  },
  {
   "cell_type": "code",
   "execution_count": 2,
   "id": "14c54ea8",
   "metadata": {},
   "outputs": [],
   "source": [
    "import spacy"
   ]
  },
  {
   "cell_type": "code",
   "execution_count": 3,
   "id": "f3c64c89",
   "metadata": {},
   "outputs": [],
   "source": [
    "english = spacy.load('en_core_web_sm')"
   ]
  },
  {
   "cell_type": "code",
   "execution_count": 4,
   "id": "31c514b7",
   "metadata": {},
   "outputs": [],
   "source": [
    "text = \"We\\'re moving to U.S next year\""
   ]
  },
  {
   "cell_type": "code",
   "execution_count": 5,
   "id": "b7ef5b6f",
   "metadata": {},
   "outputs": [
    {
     "name": "stdout",
     "output_type": "stream",
     "text": [
      "We're moving to U.S next year\n"
     ]
    }
   ],
   "source": [
    "print(text)"
   ]
  },
  {
   "cell_type": "code",
   "execution_count": 6,
   "id": "be0caeec",
   "metadata": {},
   "outputs": [
    {
     "data": {
      "text/plain": [
       "[\"We're\", 'moving', 'to', 'U.S', 'next', 'year']"
      ]
     },
     "execution_count": 6,
     "metadata": {},
     "output_type": "execute_result"
    }
   ],
   "source": [
    "text.split()"
   ]
  },
  {
   "cell_type": "code",
   "execution_count": 7,
   "id": "9b0eb9ba",
   "metadata": {},
   "outputs": [],
   "source": [
    "doc = english(text)"
   ]
  },
  {
   "cell_type": "code",
   "execution_count": 8,
   "id": "f2365b21",
   "metadata": {},
   "outputs": [
    {
     "name": "stdout",
     "output_type": "stream",
     "text": [
      "We \t we\n",
      "'re \t be\n",
      "moving \t move\n",
      "to \t to\n",
      "U.S \t U.S\n",
      "next \t next\n",
      "year \t year\n"
     ]
    }
   ],
   "source": [
    "for token in doc:\n",
    "    print(token.text, \"\\t\", token.lemma_)"
   ]
  },
  {
   "cell_type": "code",
   "execution_count": 9,
   "id": "3ce746dc",
   "metadata": {},
   "outputs": [],
   "source": [
    "doc2 = english(\"We're here to help! Can you send us email at support@lwindia.com or visit at http://lwindia.com.\")"
   ]
  },
  {
   "cell_type": "code",
   "execution_count": 10,
   "id": "23ccd154",
   "metadata": {},
   "outputs": [
    {
     "name": "stdout",
     "output_type": "stream",
     "text": [
      "We\n",
      "'re\n",
      "here\n",
      "to\n",
      "help\n",
      "!\n",
      "Can\n",
      "you\n",
      "send\n",
      "us\n",
      "email\n",
      "at\n",
      "support@lwindia.com\n",
      "or\n",
      "visit\n",
      "at\n",
      "http://lwindia.com\n",
      ".\n"
     ]
    }
   ],
   "source": [
    "for token in doc2:\n",
    "    print(token.text)"
   ]
  },
  {
   "cell_type": "code",
   "execution_count": 11,
   "id": "66dde5d6",
   "metadata": {},
   "outputs": [],
   "source": [
    "doc3 = english(\"A 10km mumbai cab ride costs me $10.50\")"
   ]
  },
  {
   "cell_type": "code",
   "execution_count": 12,
   "id": "cf281801",
   "metadata": {},
   "outputs": [
    {
     "name": "stdout",
     "output_type": "stream",
     "text": [
      "A\n",
      "10\n",
      "km\n",
      "mumbai\n",
      "cab\n",
      "ride\n",
      "costs\n",
      "me\n",
      "$\n",
      "10.50\n"
     ]
    }
   ],
   "source": [
    "for token in doc3:\n",
    "    print(token.text)"
   ]
  },
  {
   "cell_type": "code",
   "execution_count": 13,
   "id": "ccb21594",
   "metadata": {},
   "outputs": [],
   "source": [
    "doc4 = english(\"Let's visit St. Clara in the U.S Valley next year\")"
   ]
  },
  {
   "cell_type": "code",
   "execution_count": 14,
   "id": "60f65890",
   "metadata": {},
   "outputs": [
    {
     "name": "stdout",
     "output_type": "stream",
     "text": [
      "Let\n",
      "'s\n",
      "visit\n",
      "St.\n",
      "Clara\n",
      "in\n",
      "the\n",
      "U.S\n",
      "Valley\n",
      "next\n",
      "year\n"
     ]
    }
   ],
   "source": [
    "for token in doc4:\n",
    "    print(token.text)"
   ]
  },
  {
   "cell_type": "code",
   "execution_count": 15,
   "id": "83d93fbf",
   "metadata": {},
   "outputs": [],
   "source": [
    "doc5 = english(\"Microsoft is going to build a Hong Kong factory for $7 million\")"
   ]
  },
  {
   "cell_type": "code",
   "execution_count": 16,
   "id": "9c38dad9",
   "metadata": {},
   "outputs": [
    {
     "name": "stdout",
     "output_type": "stream",
     "text": [
      "Microsoft\n",
      "is\n",
      "going\n",
      "to\n",
      "build\n",
      "a\n",
      "Hong\n",
      "Kong\n",
      "factory\n",
      "for\n",
      "$\n",
      "7\n",
      "million\n"
     ]
    }
   ],
   "source": [
    "for token in doc5:\n",
    "    print(token.text)"
   ]
  },
  {
   "cell_type": "code",
   "execution_count": 17,
   "id": "7bb9d4d3",
   "metadata": {},
   "outputs": [
    {
     "name": "stdout",
     "output_type": "stream",
     "text": [
      "Microsoft\tORG\n",
      "Hong Kong\tGPE\n",
      "$7 million\tMONEY\n"
     ]
    }
   ],
   "source": [
    "# name entity\n",
    "for token in doc5.ents:\n",
    "    print(f\"{token}\\t{token.label_}\")"
   ]
  },
  {
   "cell_type": "code",
   "execution_count": 18,
   "id": "4ebf09d4",
   "metadata": {},
   "outputs": [],
   "source": [
    "doc6 = english(\"Autonomous car's shift the insurance liability towards the manufactures.\")"
   ]
  },
  {
   "cell_type": "code",
   "execution_count": 19,
   "id": "81bd5da5",
   "metadata": {},
   "outputs": [
    {
     "name": "stdout",
     "output_type": "stream",
     "text": [
      "Autonomous\n",
      "car\n",
      "'s\n",
      "shift\n",
      "the\n",
      "insurance\n",
      "liability\n",
      "towards\n",
      "the\n",
      "manufactures\n",
      ".\n"
     ]
    }
   ],
   "source": [
    "for token in doc6:\n",
    "    print(token.text)"
   ]
  },
  {
   "cell_type": "code",
   "execution_count": 20,
   "id": "2b67f575",
   "metadata": {},
   "outputs": [
    {
     "name": "stdout",
     "output_type": "stream",
     "text": [
      "Autonomous car's shift\n",
      "the insurance liability\n",
      "the manufactures\n"
     ]
    }
   ],
   "source": [
    "# noun chunks\n",
    "for token in doc6.noun_chunks:\n",
    "    print(token)"
   ]
  },
  {
   "cell_type": "code",
   "execution_count": 21,
   "id": "373510bc",
   "metadata": {},
   "outputs": [],
   "source": [
    "doc7 = english(\"I am a runner running in a race because I love to run since i ran yesterday.\")"
   ]
  },
  {
   "cell_type": "code",
   "execution_count": 22,
   "id": "c152378f",
   "metadata": {},
   "outputs": [],
   "source": [
    "# stemming --> not supported by spacy because it comes with limited features\n",
    "# lemmatization  --> supported by spacy. \n",
    "# both converts tokens into their base words\n",
    "# e.g., running --> run"
   ]
  },
  {
   "cell_type": "code",
   "execution_count": 23,
   "id": "8cd799e4",
   "metadata": {},
   "outputs": [],
   "source": [
    "words = [\"ran\", \"run\", \"running\"]"
   ]
  },
  {
   "cell_type": "code",
   "execution_count": 24,
   "id": "c3c82805",
   "metadata": {},
   "outputs": [
    {
     "ename": "ModuleNotFoundError",
     "evalue": "No module named 'nltk'",
     "output_type": "error",
     "traceback": [
      "\u001b[1;31m---------------------------------------------------------------------------\u001b[0m",
      "\u001b[1;31mModuleNotFoundError\u001b[0m                       Traceback (most recent call last)",
      "\u001b[1;32m<ipython-input-24-1d2184025e54>\u001b[0m in \u001b[0;36m<module>\u001b[1;34m\u001b[0m\n\u001b[1;32m----> 1\u001b[1;33m \u001b[1;32mimport\u001b[0m \u001b[0mnltk\u001b[0m\u001b[1;33m\u001b[0m\u001b[1;33m\u001b[0m\u001b[0m\n\u001b[0m",
      "\u001b[1;31mModuleNotFoundError\u001b[0m: No module named 'nltk'"
     ]
    }
   ],
   "source": [
    "import nltk"
   ]
  },
  {
   "cell_type": "code",
   "execution_count": null,
   "id": "26228848",
   "metadata": {},
   "outputs": [],
   "source": [
    "# nltk library supports stemming"
   ]
  },
  {
   "cell_type": "code",
   "execution_count": null,
   "id": "65f5ccec",
   "metadata": {},
   "outputs": [],
   "source": [
    "from nltk.stem.porter import PorterStemmer"
   ]
  },
  {
   "cell_type": "code",
   "execution_count": null,
   "id": "528136ad",
   "metadata": {},
   "outputs": [],
   "source": [
    "pstem = PorterStemmer()"
   ]
  },
  {
   "cell_type": "code",
   "execution_count": null,
   "id": "2499a43e",
   "metadata": {},
   "outputs": [],
   "source": [
    "pstem.stem(\"run\")"
   ]
  },
  {
   "cell_type": "code",
   "execution_count": null,
   "id": "98ea9727",
   "metadata": {},
   "outputs": [],
   "source": [
    "pstem.stem(\"ran\")"
   ]
  },
  {
   "cell_type": "code",
   "execution_count": null,
   "id": "ce048d6c",
   "metadata": {},
   "outputs": [],
   "source": [
    "pstem.stem(\"running\")"
   ]
  },
  {
   "cell_type": "code",
   "execution_count": null,
   "id": "face2448",
   "metadata": {},
   "outputs": [],
   "source": [
    "from nltk.stem.snowball import SnowballStemmer"
   ]
  },
  {
   "cell_type": "code",
   "execution_count": null,
   "id": "2b3e9bd3",
   "metadata": {},
   "outputs": [],
   "source": [
    "sstem = SnowballStemmer(language=\"english\")"
   ]
  },
  {
   "cell_type": "code",
   "execution_count": null,
   "id": "eaea21f1",
   "metadata": {},
   "outputs": [],
   "source": [
    "sstem.stem('run')"
   ]
  },
  {
   "cell_type": "code",
   "execution_count": null,
   "id": "4c7fdd3a",
   "metadata": {},
   "outputs": [],
   "source": [
    "sstem.stem('ran')"
   ]
  },
  {
   "cell_type": "code",
   "execution_count": null,
   "id": "41e18456",
   "metadata": {},
   "outputs": [],
   "source": [
    "sstem.stem('running')"
   ]
  },
  {
   "cell_type": "code",
   "execution_count": null,
   "id": "8924a629",
   "metadata": {},
   "outputs": [],
   "source": [
    "sstem.stem('fairly')"
   ]
  },
  {
   "cell_type": "code",
   "execution_count": null,
   "id": "885f16ca",
   "metadata": {},
   "outputs": [],
   "source": []
  },
  {
   "cell_type": "code",
   "execution_count": 25,
   "id": "730b15fe",
   "metadata": {},
   "outputs": [],
   "source": [
    "# spacy library supports lemmatization"
   ]
  },
  {
   "cell_type": "code",
   "execution_count": 29,
   "id": "170dcc37",
   "metadata": {},
   "outputs": [
    {
     "name": "stdout",
     "output_type": "stream",
     "text": [
      "I I\n",
      "am be\n",
      "a a\n",
      "runner runner\n",
      "running run\n",
      "in in\n",
      "a a\n",
      "race race\n",
      "because because\n",
      "I I\n",
      "love love\n",
      "to to\n",
      "run run\n",
      "since since\n",
      "i I\n",
      "ran run\n",
      "yesterday yesterday\n",
      ". .\n"
     ]
    }
   ],
   "source": [
    "for token in doc7:\n",
    "    print(token.text,token.lemma_)"
   ]
  },
  {
   "cell_type": "code",
   "execution_count": 30,
   "id": "c34f8261",
   "metadata": {},
   "outputs": [],
   "source": [
    "doc8 = english(\"I saw eight mice yesterday.\")"
   ]
  },
  {
   "cell_type": "code",
   "execution_count": 32,
   "id": "6b3dcac2",
   "metadata": {},
   "outputs": [
    {
     "name": "stdout",
     "output_type": "stream",
     "text": [
      "I I\n",
      "saw see\n",
      "eight eight\n",
      "mice mouse\n",
      "yesterday yesterday\n",
      ". .\n"
     ]
    }
   ],
   "source": [
    "for token in doc8:\n",
    "    print(token.text, token.lemma_)"
   ]
  },
  {
   "cell_type": "code",
   "execution_count": 34,
   "id": "a289da7c",
   "metadata": {},
   "outputs": [],
   "source": [
    "stop_words = english.Defaults.stop_words"
   ]
  },
  {
   "cell_type": "code",
   "execution_count": 38,
   "id": "dde17ccc",
   "metadata": {},
   "outputs": [
    {
     "name": "stdout",
     "output_type": "stream",
     "text": [
      "{'can', 'go', 'towards', 'full', 'unless', 'nobody', 'all', 'over', 'during', 'beside', 'was', 'nothing', 'both', 'last', '‘ll', 'them', 'yourself', 'mostly', 'alone', 'really', 'or', 'enough', 'ourselves', 'yourselves', '’re', '‘ve', 'another', 'whatever', 'not', 're', \"n't\", 'just', 'using', 'twelve', 'while', '‘m', 'had', 'whether', 'below', 'part', 'anyone', 'once', 'afterwards', 'every', 'elsewhere', 'due', 'to', 'how', 'has', 'however', 'down', 'hereafter', 'have', 'many', 'none', 'amongst', 'sometimes', 'whereafter', 'front', 'did', 'first', 'whence', 'various', 'few', 'very', 'why', 'six', 'hence', 'also', 'either', 'doing', 'there', 'this', 'someone', 'herein', 'when', 'we', 'but', '’m', 'among', 'else', 'four', 'please', 'whereas', 'through', 'further', 'wherein', '‘s', 'everything', 'under', 'whom', 'without', 'get', 'being', 'neither', 'put', '‘d', 'next', 'eight', 'regarding', 'within', 'sometime', 'per', 'ever', 'she', 'from', 'across', 'top', 'toward', 'each', 'perhaps', 'though', 'in', 'everywhere', 'thereupon', 'therefore', 'whose', 'am', 'become', 'therein', 'with', 'were', 'out', 'against', 'of', 'even', 'latter', 'almost', 'a', 'seeming', 'an', 'who', 'thru', 'you', 'their', 'may', 'are', 'those', 'moreover', 'something', 'its', 'into', 'because', 'about', 'meanwhile', 'everyone', 'nevertheless', 'behind', 'otherwise', 'throughout', 'eleven', 'which', 'least', 'often', 'us', 'whither', 'take', \"'m\", 'others', 'via', 'as', 'whoever', 'latterly', 'must', 'he', 'thereby', 'yours', 'make', 'any', 'still', 'most', 'other', 'no', \"'s\", 'give', 'at', 'forty', 'himself', 'is', 'some', 'that', 'could', 'itself', 'anywhere', 'these', 'whereupon', \"'ll\", 'it', \"'re\", 'thence', 'noone', 'than', 'somehow', 'nowhere', 'beforehand', 'same', 'myself', 'up', 'one', 'five', 'hundred', 'whole', 'might', 'sixty', 'back', 'becomes', 'where', 'empty', 'thus', 'and', 'does', 'will', 'should', 'side', '‘re', 'bottom', 'along', 'used', 'themselves', 'third', 'became', 'see', 'i', 'then', 'seem', 'besides', 'his', 'anyway', 'on', 'rather', 'upon', '’ll', 'serious', 'becoming', 'well', 'anything', \"'d\", 'her', 'nor', 'always', 'him', 'the', 'around', 'twenty', 'been', 'whenever', 'beyond', 'show', 'more', 'if', 'nine', 'wherever', 'n’t', 'since', 'your', 'hereby', 'now', 'say', 'seems', \"'ve\", 'seemed', 'anyhow', 'here', 'somewhere', 'would', 'move', 'what', 'hers', 'call', 'thereafter', 'hereupon', 'too', 'only', 'so', 'amount', 'two', 'ours', 'ten', '’ve', 'ca', 'onto', 'together', 'after', '’s', 'before', 'name', 'me', 'namely', 'although', 'mine', 'several', 'formerly', 'except', 'n‘t', 'between', 'former', 'by', 'already', 'keep', 'for', 'again', 'such', 'fifty', 'my', 'fifteen', 'made', 'done', 'be', 'whereby', 'until', 'do', 'herself', 'quite', 'never', '’d', 'less', 'much', 'they', 'above', 'our', 'cannot', 'three', 'yet', 'off', 'own', 'indeed'}\n"
     ]
    }
   ],
   "source": [
    "print(stop_words)"
   ]
  },
  {
   "cell_type": "code",
   "execution_count": 39,
   "id": "dcbc118b",
   "metadata": {},
   "outputs": [
    {
     "data": {
      "text/plain": [
       "326"
      ]
     },
     "execution_count": 39,
     "metadata": {},
     "output_type": "execute_result"
    }
   ],
   "source": [
    "len(stop_words)"
   ]
  },
  {
   "cell_type": "code",
   "execution_count": 44,
   "id": "4da2dbb7",
   "metadata": {},
   "outputs": [],
   "source": [
    "doc9 = \"i celebrated my birthday, lol!\""
   ]
  },
  {
   "cell_type": "code",
   "execution_count": 49,
   "id": "481983fe",
   "metadata": {},
   "outputs": [
    {
     "data": {
      "text/plain": [
       "816"
      ]
     },
     "execution_count": 49,
     "metadata": {},
     "output_type": "execute_result"
    }
   ],
   "source": [
    "len(english.vocab)"
   ]
  },
  {
   "cell_type": "code",
   "execution_count": 52,
   "id": "53bbc597",
   "metadata": {},
   "outputs": [
    {
     "data": {
      "text/plain": [
       "True"
      ]
     },
     "execution_count": 52,
     "metadata": {},
     "output_type": "execute_result"
    }
   ],
   "source": [
    "english.vocab['can'].is_stop   # checking the stop word"
   ]
  },
  {
   "cell_type": "code",
   "execution_count": 55,
   "id": "93634fd9",
   "metadata": {},
   "outputs": [
    {
     "data": {
      "text/plain": [
       "False"
      ]
     },
     "execution_count": 55,
     "metadata": {},
     "output_type": "execute_result"
    }
   ],
   "source": [
    "english.vocab['lol'].is_stop"
   ]
  },
  {
   "cell_type": "code",
   "execution_count": 56,
   "id": "f99d06a1",
   "metadata": {},
   "outputs": [],
   "source": [
    "english.Defaults.stop_words.add('lol')"
   ]
  },
  {
   "cell_type": "code",
   "execution_count": 58,
   "id": "f4c3dd96",
   "metadata": {},
   "outputs": [],
   "source": [
    "english.vocab['lol'].is_stop = True"
   ]
  },
  {
   "cell_type": "code",
   "execution_count": 59,
   "id": "9e83bdf0",
   "metadata": {},
   "outputs": [
    {
     "data": {
      "text/plain": [
       "True"
      ]
     },
     "execution_count": 59,
     "metadata": {},
     "output_type": "execute_result"
    }
   ],
   "source": [
    "english.vocab['lol'].is_stop"
   ]
  },
  {
   "cell_type": "code",
   "execution_count": 60,
   "id": "5dde184a",
   "metadata": {},
   "outputs": [
    {
     "data": {
      "text/plain": [
       "327"
      ]
     },
     "execution_count": 60,
     "metadata": {},
     "output_type": "execute_result"
    }
   ],
   "source": [
    "len(stop_words)"
   ]
  },
  {
   "cell_type": "code",
   "execution_count": null,
   "id": "d5f22974",
   "metadata": {},
   "outputs": [],
   "source": [
    " "
   ]
  }
 ],
 "metadata": {
  "kernelspec": {
   "display_name": "Python 3",
   "language": "python",
   "name": "python3"
  },
  "language_info": {
   "codemirror_mode": {
    "name": "ipython",
    "version": 3
   },
   "file_extension": ".py",
   "mimetype": "text/x-python",
   "name": "python",
   "nbconvert_exporter": "python",
   "pygments_lexer": "ipython3",
   "version": "3.8.8"
  }
 },
 "nbformat": 4,
 "nbformat_minor": 5
}
