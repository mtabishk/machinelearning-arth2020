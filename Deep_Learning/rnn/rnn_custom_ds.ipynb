{
 "cells": [
  {
   "cell_type": "code",
   "execution_count": 36,
   "id": "0b80bcf0",
   "metadata": {},
   "outputs": [],
   "source": [
    "import numpy as np\n",
    "import matplotlib.pyplot as plt"
   ]
  },
  {
   "cell_type": "code",
   "execution_count": 63,
   "id": "64719e15",
   "metadata": {},
   "outputs": [
    {
     "data": {
      "text/plain": [
       "[<matplotlib.lines.Line2D at 0x2138841fcd0>]"
      ]
     },
     "execution_count": 63,
     "metadata": {},
     "output_type": "execute_result"
    },
    {
     "data": {
      "image/png": "[encoded data removed]",
      "text/plain": [
       "<Figure size 432x288 with 1 Axes>"
      ]
     },
     "metadata": {
      "needs_background": "light"
     },
     "output_type": "display_data"
    }
   ],
   "source": [
    "time = np.arange(0,1500)\n",
    "y_with_noise = np.sin(0.02 * time) + np.random.uniform(low=-1, high=1, size=(1500,))\n",
    "y_without_noise = np.sin(0.02 * time)\n",
    "plt.plot(y_with_noise)\n",
    "plt.axvline(1000, c='r')\n",
    "plt.plot(y_without_noise)"
   ]
  },
  {
   "cell_type": "code",
   "execution_count": 64,
   "id": "c0f79592",
   "metadata": {},
   "outputs": [],
   "source": [
    "y = np.sin(0.02 * time) + np.random.uniform(low=-1, high=1, size=(1500,))"
   ]
  },
  {
   "cell_type": "code",
   "execution_count": 65,
   "id": "5d799fa4",
   "metadata": {},
   "outputs": [],
   "source": [
    "# Normalizing the data"
   ]
  },
  {
   "cell_type": "code",
   "execution_count": 66,
   "id": "c349a0cb",
   "metadata": {},
   "outputs": [],
   "source": [
    "from sklearn.preprocessing import MinMaxScaler"
   ]
  },
  {
   "cell_type": "code",
   "execution_count": 67,
   "id": "74782426",
   "metadata": {},
   "outputs": [],
   "source": [
    "normalizer = MinMaxScaler(feature_range=(0,1)) # scale 0-1"
   ]
  },
  {
   "cell_type": "code",
   "execution_count": 68,
   "id": "f3cd9017",
   "metadata": {},
   "outputs": [
    {
     "data": {
      "text/plain": [
       "(1500,)"
      ]
     },
     "execution_count": 68,
     "metadata": {},
     "output_type": "execute_result"
    }
   ],
   "source": [
    "y.shape # 1D"
   ]
  },
  {
   "cell_type": "code",
   "execution_count": 69,
   "id": "3082ecfe",
   "metadata": {},
   "outputs": [],
   "source": [
    "y = np.reshape(y, (-1,1))"
   ]
  },
  {
   "cell_type": "code",
   "execution_count": 70,
   "id": "6388592e",
   "metadata": {},
   "outputs": [
    {
     "data": {
      "text/plain": [
       "(1500, 1)"
      ]
     },
     "execution_count": 70,
     "metadata": {},
     "output_type": "execute_result"
    }
   ],
   "source": [
    "y.shape #2D"
   ]
  },
  {
   "cell_type": "code",
   "execution_count": 71,
   "id": "250da520",
   "metadata": {},
   "outputs": [],
   "source": [
    "y_norm = normalizer.fit_transform(y)"
   ]
  },
  {
   "cell_type": "code",
   "execution_count": 72,
   "id": "bbe12964",
   "metadata": {},
   "outputs": [
    {
     "data": {
      "text/plain": [
       "(1500, 1)"
      ]
     },
     "execution_count": 72,
     "metadata": {},
     "output_type": "execute_result"
    }
   ],
   "source": [
    "y_norm.shape"
   ]
  },
  {
   "cell_type": "code",
   "execution_count": 73,
   "id": "6e342ea6",
   "metadata": {},
   "outputs": [
    {
     "data": {
      "text/plain": [
       "array([[0.52823604],\n",
       "       [0.58331631],\n",
       "       [0.48682268],\n",
       "       ...,\n",
       "       [0.22269131],\n",
       "       [0.36524215],\n",
       "       [0.20854133]])"
      ]
     },
     "execution_count": 73,
     "metadata": {},
     "output_type": "execute_result"
    }
   ],
   "source": [
    "y_norm # all values now lie in scale 0-1"
   ]
  },
  {
   "cell_type": "code",
   "execution_count": 74,
   "id": "6c0e2aa6",
   "metadata": {},
   "outputs": [
    {
     "data": {
      "text/plain": [
       "array([-0.88894839])"
      ]
     },
     "execution_count": 74,
     "metadata": {},
     "output_type": "execute_result"
    }
   ],
   "source": [
    "y[5]"
   ]
  },
  {
   "cell_type": "code",
   "execution_count": 76,
   "id": "93be0b56",
   "metadata": {},
   "outputs": [
    {
     "data": {
      "text/plain": [
       "array([0.27209352])"
      ]
     },
     "execution_count": 76,
     "metadata": {},
     "output_type": "execute_result"
    }
   ],
   "source": [
    "y_norm[5]"
   ]
  },
  {
   "cell_type": "code",
   "execution_count": 77,
   "id": "8983e569",
   "metadata": {},
   "outputs": [
    {
     "data": {
      "text/plain": [
       "array([[-0.8889484]])"
      ]
     },
     "execution_count": 77,
     "metadata": {},
     "output_type": "execute_result"
    }
   ],
   "source": [
    "# reverse normalization\n",
    "normalizer.inverse_transform([[0.27209352]])"
   ]
  },
  {
   "cell_type": "code",
   "execution_count": null,
   "id": "651bb657",
   "metadata": {},
   "outputs": [],
   "source": []
  },
  {
   "cell_type": "code",
   "execution_count": 78,
   "id": "2d0d8537",
   "metadata": {},
   "outputs": [],
   "source": [
    "y_train = y_norm[0:1000]\n",
    "y_test = y_norm[1000:]"
   ]
  },
  {
   "cell_type": "code",
   "execution_count": 79,
   "id": "d2971c97",
   "metadata": {},
   "outputs": [],
   "source": [
    "def prepareDataset(data, step):\n",
    "    X = []\n",
    "    y = []\n",
    "    for i in range(len(data) - step):\n",
    "        X.append(data[i: i+step])\n",
    "        y.append(data[i+step])\n",
    "    return np.array(X), np.array(y)"
   ]
  },
  {
   "cell_type": "code",
   "execution_count": 80,
   "id": "cb3e367e",
   "metadata": {},
   "outputs": [],
   "source": [
    "step=10"
   ]
  },
  {
   "cell_type": "code",
   "execution_count": 81,
   "id": "69f96554",
   "metadata": {},
   "outputs": [],
   "source": [
    "trainX, trainY = prepareDataset(y_train, step)"
   ]
  },
  {
   "cell_type": "code",
   "execution_count": 82,
   "id": "ea537656",
   "metadata": {},
   "outputs": [],
   "source": [
    "testX, testY = prepareDataset(y_test, step)"
   ]
  },
  {
   "cell_type": "code",
   "execution_count": 83,
   "id": "a037e496",
   "metadata": {},
   "outputs": [
    {
     "name": "stdout",
     "output_type": "stream",
     "text": [
      "(990, 10, 1) (990, 1)\n"
     ]
    }
   ],
   "source": [
    "print(trainX.shape, trainY.shape)"
   ]
  },
  {
   "cell_type": "code",
   "execution_count": 84,
   "id": "b2d265cc",
   "metadata": {},
   "outputs": [
    {
     "name": "stdout",
     "output_type": "stream",
     "text": [
      "(490, 10, 1) (490, 1)\n"
     ]
    }
   ],
   "source": [
    "print(testX.shape, testY.shape)"
   ]
  },
  {
   "cell_type": "code",
   "execution_count": 85,
   "id": "13b3ac63",
   "metadata": {},
   "outputs": [
    {
     "data": {
      "text/plain": [
       "array([[0.52823604],\n",
       "       [0.58331631],\n",
       "       [0.48682268],\n",
       "       [0.41769389],\n",
       "       [0.7477088 ],\n",
       "       [0.27209352],\n",
       "       [0.69488416],\n",
       "       [0.73360482],\n",
       "       [0.44648286],\n",
       "       [0.75835723]])"
      ]
     },
     "execution_count": 85,
     "metadata": {},
     "output_type": "execute_result"
    }
   ],
   "source": [
    "trainX[0]"
   ]
  },
  {
   "cell_type": "code",
   "execution_count": 86,
   "id": "2602247e",
   "metadata": {},
   "outputs": [
    {
     "data": {
      "text/plain": [
       "array([0.59932933])"
      ]
     },
     "execution_count": 86,
     "metadata": {},
     "output_type": "execute_result"
    }
   ],
   "source": [
    "trainY[0]"
   ]
  },
  {
   "cell_type": "code",
   "execution_count": 87,
   "id": "548fe0bb",
   "metadata": {},
   "outputs": [],
   "source": [
    "from keras.models import Sequential\n",
    "from keras.layers import Dense\n",
    "from keras.layers import SimpleRNN"
   ]
  },
  {
   "cell_type": "code",
   "execution_count": 88,
   "id": "ee0acecd",
   "metadata": {},
   "outputs": [],
   "source": [
    "model = Sequential()"
   ]
  },
  {
   "cell_type": "code",
   "execution_count": 89,
   "id": "b8bdca69",
   "metadata": {},
   "outputs": [],
   "source": [
    "model.add(\n",
    "    SimpleRNN(units=1, activation='tanh')\n",
    ")"
   ]
  },
  {
   "cell_type": "code",
   "execution_count": 90,
   "id": "e760c663",
   "metadata": {},
   "outputs": [],
   "source": [
    "model.add(\n",
    "    Dense(units=1, activation='linear')\n",
    ")"
   ]
  },
  {
   "cell_type": "code",
   "execution_count": 91,
   "id": "b68be56e",
   "metadata": {},
   "outputs": [
    {
     "data": {
      "text/plain": [
       "{'name': 'sequential_1',\n",
       " 'layers': [{'class_name': 'SimpleRNN',\n",
       "   'config': {'name': 'simple_rnn_1',\n",
       "    'trainable': True,\n",
       "    'dtype': 'float32',\n",
       "    'return_sequences': False,\n",
       "    'return_state': False,\n",
       "    'go_backwards': False,\n",
       "    'stateful': False,\n",
       "    'unroll': False,\n",
       "    'time_major': False,\n",
       "    'units': 1,\n",
       "    'activation': 'tanh',\n",
       "    'use_bias': True,\n",
       "    'kernel_initializer': {'class_name': 'GlorotUniform',\n",
       "     'config': {'seed': None}},\n",
       "    'recurrent_initializer': {'class_name': 'Orthogonal',\n",
       "     'config': {'gain': 1.0, 'seed': None}},\n",
       "    'bias_initializer': {'class_name': 'Zeros', 'config': {}},\n",
       "    'kernel_regularizer': None,\n",
       "    'recurrent_regularizer': None,\n",
       "    'bias_regularizer': None,\n",
       "    'activity_regularizer': None,\n",
       "    'kernel_constraint': None,\n",
       "    'recurrent_constraint': None,\n",
       "    'bias_constraint': None,\n",
       "    'dropout': 0.0,\n",
       "    'recurrent_dropout': 0.0}},\n",
       "  {'class_name': 'Dense',\n",
       "   'config': {'name': 'dense_1',\n",
       "    'trainable': True,\n",
       "    'dtype': 'float32',\n",
       "    'units': 1,\n",
       "    'activation': 'linear',\n",
       "    'use_bias': True,\n",
       "    'kernel_initializer': {'class_name': 'GlorotUniform',\n",
       "     'config': {'seed': None}},\n",
       "    'bias_initializer': {'class_name': 'Zeros', 'config': {}},\n",
       "    'kernel_regularizer': None,\n",
       "    'bias_regularizer': None,\n",
       "    'activity_regularizer': None,\n",
       "    'kernel_constraint': None,\n",
       "    'bias_constraint': None}}]}"
      ]
     },
     "execution_count": 91,
     "metadata": {},
     "output_type": "execute_result"
    }
   ],
   "source": [
    "model.get_config()"
   ]
  },
  {
   "cell_type": "code",
   "execution_count": 92,
   "id": "8210c925",
   "metadata": {},
   "outputs": [],
   "source": [
    "model.compile(loss='mean_squared_error', optimizer='rmsprop')"
   ]
  },
  {
   "cell_type": "code",
   "execution_count": 93,
   "id": "3dc1bf2b",
   "metadata": {},
   "outputs": [
    {
     "name": "stdout",
     "output_type": "stream",
     "text": [
      "Epoch 1/100\n",
      "31/31 [==============================] - 2s 2ms/step - loss: 0.0479\n",
      "Epoch 2/100\n",
      "31/31 [==============================] - 0s 1ms/step - loss: 0.0446\n",
      "Epoch 3/100\n",
      "31/31 [==============================] - 0s 1ms/step - loss: 0.0438\n",
      "Epoch 4/100\n",
      "31/31 [==============================] - 0s 1ms/step - loss: 0.0397\n",
      "Epoch 5/100\n",
      "31/31 [==============================] - 0s 1ms/step - loss: 0.0393\n",
      "Epoch 6/100\n",
      "31/31 [==============================] - 0s 1ms/step - loss: 0.0390\n",
      "Epoch 7/100\n",
      "31/31 [==============================] - 0s 1ms/step - loss: 0.0363\n",
      "Epoch 8/100\n",
      "31/31 [==============================] - 0s 1ms/step - loss: 0.0362\n",
      "Epoch 9/100\n",
      "31/31 [==============================] - 0s 1ms/step - loss: 0.0361\n",
      "Epoch 10/100\n",
      "31/31 [==============================] - 0s 1ms/step - loss: 0.0344\n",
      "Epoch 11/100\n",
      "31/31 [==============================] - 0s 1ms/step - loss: 0.0358\n",
      "Epoch 12/100\n",
      "31/31 [==============================] - 0s 1ms/step - loss: 0.0339\n",
      "Epoch 13/100\n",
      "31/31 [==============================] - 0s 1ms/step - loss: 0.0359\n",
      "Epoch 14/100\n",
      "31/31 [==============================] - 0s 1ms/step - loss: 0.0341\n",
      "Epoch 15/100\n",
      "31/31 [==============================] - 0s 1ms/step - loss: 0.0350\n",
      "Epoch 16/100\n",
      "31/31 [==============================] - 0s 1ms/step - loss: 0.0345\n",
      "Epoch 17/100\n",
      "31/31 [==============================] - 0s 1ms/step - loss: 0.0345\n",
      "Epoch 18/100\n",
      "31/31 [==============================] - 0s 1ms/step - loss: 0.0356\n",
      "Epoch 19/100\n",
      "31/31 [==============================] - 0s 1ms/step - loss: 0.0343\n",
      "Epoch 20/100\n",
      "31/31 [==============================] - 0s 1ms/step - loss: 0.0349\n",
      "Epoch 21/100\n",
      "31/31 [==============================] - 0s 2ms/step - loss: 0.0343\n",
      "Epoch 22/100\n",
      "31/31 [==============================] - 0s 1ms/step - loss: 0.0332\n",
      "Epoch 23/100\n",
      "31/31 [==============================] - 0s 2ms/step - loss: 0.0358\n",
      "Epoch 24/100\n",
      "31/31 [==============================] - 0s 2ms/step - loss: 0.0349\n",
      "Epoch 25/100\n",
      "31/31 [==============================] - 0s 2ms/step - loss: 0.0335\n",
      "Epoch 26/100\n",
      "31/31 [==============================] - 0s 2ms/step - loss: 0.0326\n",
      "Epoch 27/100\n",
      "31/31 [==============================] - 0s 2ms/step - loss: 0.0321\n",
      "Epoch 28/100\n",
      "31/31 [==============================] - 0s 1ms/step - loss: 0.0336\n",
      "Epoch 29/100\n",
      "31/31 [==============================] - 0s 1ms/step - loss: 0.0339\n",
      "Epoch 30/100\n",
      "31/31 [==============================] - 0s 1ms/step - loss: 0.0351\n",
      "Epoch 31/100\n",
      "31/31 [==============================] - 0s 2ms/step - loss: 0.0315\n",
      "Epoch 32/100\n",
      "31/31 [==============================] - 0s 2ms/step - loss: 0.0334\n",
      "Epoch 33/100\n",
      "31/31 [==============================] - 0s 2ms/step - loss: 0.0337\n",
      "Epoch 34/100\n",
      "31/31 [==============================] - 0s 2ms/step - loss: 0.0309\n",
      "Epoch 35/100\n",
      "31/31 [==============================] - 0s 2ms/step - loss: 0.0328\n",
      "Epoch 36/100\n",
      "31/31 [==============================] - 0s 1ms/step - loss: 0.0319\n",
      "Epoch 37/100\n",
      "31/31 [==============================] - 0s 1ms/step - loss: 0.0332\n",
      "Epoch 38/100\n",
      "31/31 [==============================] - 0s 1ms/step - loss: 0.0312\n",
      "Epoch 39/100\n",
      "31/31 [==============================] - 0s 1ms/step - loss: 0.0311\n",
      "Epoch 40/100\n",
      "31/31 [==============================] - 0s 1ms/step - loss: 0.0327\n",
      "Epoch 41/100\n",
      "31/31 [==============================] - 0s 1ms/step - loss: 0.0322\n",
      "Epoch 42/100\n",
      "31/31 [==============================] - 0s 1ms/step - loss: 0.0314\n",
      "Epoch 43/100\n",
      "31/31 [==============================] - 0s 1ms/step - loss: 0.0312\n",
      "Epoch 44/100\n",
      "31/31 [==============================] - 0s 1ms/step - loss: 0.0309\n",
      "Epoch 45/100\n",
      "31/31 [==============================] - 0s 1ms/step - loss: 0.0313\n",
      "Epoch 46/100\n",
      "31/31 [==============================] - 0s 1ms/step - loss: 0.0322\n",
      "Epoch 47/100\n",
      "31/31 [==============================] - 0s 1ms/step - loss: 0.0324\n",
      "Epoch 48/100\n",
      "31/31 [==============================] - 0s 1ms/step - loss: 0.0319\n",
      "Epoch 49/100\n",
      "31/31 [==============================] - 0s 1ms/step - loss: 0.0307\n",
      "Epoch 50/100\n",
      "31/31 [==============================] - 0s 2ms/step - loss: 0.0306\n",
      "Epoch 51/100\n",
      "31/31 [==============================] - 0s 2ms/step - loss: 0.0304\n",
      "Epoch 52/100\n",
      "31/31 [==============================] - 0s 1ms/step - loss: 0.0303\n",
      "Epoch 53/100\n",
      "31/31 [==============================] - 0s 1ms/step - loss: 0.0314\n",
      "Epoch 54/100\n",
      "31/31 [==============================] - ETA: 0s - loss: 0.029 - 0s 1ms/step - loss: 0.0302\n",
      "Epoch 55/100\n",
      "31/31 [==============================] - 0s 1ms/step - loss: 0.0302\n",
      "Epoch 56/100\n",
      "31/31 [==============================] - 0s 1ms/step - loss: 0.0318\n",
      "Epoch 57/100\n",
      "31/31 [==============================] - 0s 1ms/step - loss: 0.0320\n",
      "Epoch 58/100\n",
      "31/31 [==============================] - 0s 1ms/step - loss: 0.0318\n",
      "Epoch 59/100\n",
      "31/31 [==============================] - 0s 1ms/step - loss: 0.0308\n",
      "Epoch 60/100\n",
      "31/31 [==============================] - 0s 1ms/step - loss: 0.0309\n",
      "Epoch 61/100\n",
      "31/31 [==============================] - 0s 1ms/step - loss: 0.0290\n",
      "Epoch 62/100\n",
      "31/31 [==============================] - 0s 1ms/step - loss: 0.0296\n",
      "Epoch 63/100\n",
      "31/31 [==============================] - 0s 1ms/step - loss: 0.0322\n",
      "Epoch 64/100\n",
      "31/31 [==============================] - 0s 1ms/step - loss: 0.0298\n",
      "Epoch 65/100\n",
      "31/31 [==============================] - 0s 1ms/step - loss: 0.0299\n",
      "Epoch 66/100\n",
      "31/31 [==============================] - 0s 1ms/step - loss: 0.0319\n",
      "Epoch 67/100\n",
      "31/31 [==============================] - 0s 1ms/step - loss: 0.0303\n",
      "Epoch 68/100\n",
      "31/31 [==============================] - 0s 1ms/step - loss: 0.0295\n",
      "Epoch 69/100\n",
      "31/31 [==============================] - 0s 1ms/step - loss: 0.0301\n",
      "Epoch 70/100\n",
      "31/31 [==============================] - 0s 1ms/step - loss: 0.0308\n",
      "Epoch 71/100\n",
      "31/31 [==============================] - 0s 1ms/step - loss: 0.0295\n",
      "Epoch 72/100\n",
      "31/31 [==============================] - 0s 1ms/step - loss: 0.0296\n",
      "Epoch 73/100\n",
      "31/31 [==============================] - 0s 1ms/step - loss: 0.0278\n",
      "Epoch 74/100\n",
      "31/31 [==============================] - 0s 1ms/step - loss: 0.0283\n",
      "Epoch 75/100\n",
      "31/31 [==============================] - 0s 2ms/step - loss: 0.0313\n",
      "Epoch 76/100\n",
      "31/31 [==============================] - 0s 1ms/step - loss: 0.0270\n",
      "Epoch 77/100\n",
      "31/31 [==============================] - 0s 1ms/step - loss: 0.0296\n",
      "Epoch 78/100\n",
      "31/31 [==============================] - 0s 1ms/step - loss: 0.0307\n",
      "Epoch 79/100\n",
      "31/31 [==============================] - 0s 1ms/step - loss: 0.0290\n",
      "Epoch 80/100\n",
      "31/31 [==============================] - 0s 1ms/step - loss: 0.0285\n",
      "Epoch 81/100\n",
      "31/31 [==============================] - 0s 1ms/step - loss: 0.0298\n",
      "Epoch 82/100\n",
      "31/31 [==============================] - 0s 1ms/step - loss: 0.0281\n",
      "Epoch 83/100\n",
      "31/31 [==============================] - 0s 1ms/step - loss: 0.0299\n",
      "Epoch 84/100\n",
      "31/31 [==============================] - 0s 1ms/step - loss: 0.0290\n",
      "Epoch 85/100\n",
      "31/31 [==============================] - 0s 1ms/step - loss: 0.0286\n",
      "Epoch 86/100\n",
      "31/31 [==============================] - 0s 1ms/step - loss: 0.0266\n",
      "Epoch 87/100\n",
      "31/31 [==============================] - 0s 1ms/step - loss: 0.0273\n",
      "Epoch 88/100\n",
      "31/31 [==============================] - 0s 1ms/step - loss: 0.0275\n",
      "Epoch 89/100\n",
      "31/31 [==============================] - 0s 1ms/step - loss: 0.0274\n",
      "Epoch 90/100\n",
      "31/31 [==============================] - 0s 1ms/step - loss: 0.0296\n",
      "Epoch 91/100\n",
      "31/31 [==============================] - 0s 1ms/step - loss: 0.0279\n",
      "Epoch 92/100\n",
      "31/31 [==============================] - 0s 1ms/step - loss: 0.0279\n",
      "Epoch 93/100\n",
      "31/31 [==============================] - 0s 1ms/step - loss: 0.0303\n",
      "Epoch 94/100\n",
      "31/31 [==============================] - 0s 1ms/step - loss: 0.0272\n",
      "Epoch 95/100\n",
      "31/31 [==============================] - 0s 1ms/step - loss: 0.0279\n",
      "Epoch 96/100\n",
      "31/31 [==============================] - 0s 1ms/step - loss: 0.0271\n",
      "Epoch 97/100\n",
      "31/31 [==============================] - 0s 1ms/step - loss: 0.0273\n",
      "Epoch 98/100\n",
      "31/31 [==============================] - 0s 1ms/step - loss: 0.0279\n",
      "Epoch 99/100\n",
      "31/31 [==============================] - 0s 1ms/step - loss: 0.0291\n",
      "Epoch 100/100\n",
      "31/31 [==============================] - 0s 1ms/step - loss: 0.0285\n"
     ]
    },
    {
     "data": {
      "text/plain": [
       "<keras.callbacks.History at 0x2140009e910>"
      ]
     },
     "execution_count": 93,
     "metadata": {},
     "output_type": "execute_result"
    }
   ],
   "source": [
    "model.fit(x=trainX, y=trainY, epochs=200)"
   ]
  },
  {
   "cell_type": "code",
   "execution_count": 94,
   "id": "af451218",
   "metadata": {},
   "outputs": [],
   "source": [
    "loss = model.history.history['loss']"
   ]
  },
  {
   "cell_type": "code",
   "execution_count": 95,
   "id": "91d33c9a",
   "metadata": {},
   "outputs": [
    {
     "data": {
      "text/plain": [
       "[<matplotlib.lines.Line2D at 0x21402b47a30>]"
      ]
     },
     "execution_count": 95,
     "metadata": {},
     "output_type": "execute_result"
    },
    {
     "data": {
      "image/png": "[encoded data removed]",
      "text/plain": [
       "<Figure size 432x288 with 1 Axes>"
      ]
     },
     "metadata": {
      "needs_background": "light"
     },
     "output_type": "display_data"
    }
   ],
   "source": [
    "plt.plot(loss)"
   ]
  },
  {
   "cell_type": "code",
   "execution_count": 99,
   "id": "35d6bfdc",
   "metadata": {},
   "outputs": [],
   "source": [
    "test_pred = model.predict(testX)\n",
    "train_pred = model.predict(trainX)"
   ]
  },
  {
   "cell_type": "code",
   "execution_count": 100,
   "id": "d2452113",
   "metadata": {},
   "outputs": [],
   "source": [
    "test_pred_revnorm = normalizer.inverse_transform(test_pred)\n",
    "train_pred_revnorm = normalizer.inverse_transform(train_pred)"
   ]
  },
  {
   "cell_type": "code",
   "execution_count": 102,
   "id": "64c34a34",
   "metadata": {},
   "outputs": [],
   "source": [
    "predict = np.vstack((train_pred_revnorm, test_pred_revnorm))"
   ]
  },
  {
   "cell_type": "code",
   "execution_count": 103,
   "id": "da1c286d",
   "metadata": {},
   "outputs": [
    {
     "data": {
      "text/plain": [
       "(1480, 1)"
      ]
     },
     "execution_count": 103,
     "metadata": {},
     "output_type": "execute_result"
    }
   ],
   "source": [
    "predict.shape"
   ]
  },
  {
   "cell_type": "code",
   "execution_count": 107,
   "id": "208182d5",
   "metadata": {},
   "outputs": [
    {
     "data": {
      "text/plain": [
       "[<matplotlib.lines.Line2D at 0x2138814cf70>]"
      ]
     },
     "execution_count": 107,
     "metadata": {},
     "output_type": "execute_result"
    },
    {
     "data": {
      "image/png": "[encoded data removed]",
      "text/plain": [
       "<Figure size 432x288 with 1 Axes>"
      ]
     },
     "metadata": {
      "needs_background": "light"
     },
     "output_type": "display_data"
    }
   ],
   "source": [
    "plt.plot(y) # actual \n",
    "plt.plot(predict) # prediction"
   ]
  },
  {
   "cell_type": "code",
   "execution_count": null,
   "id": "1212227d",
   "metadata": {},
   "outputs": [],
   "source": []
  }
 ],
 "metadata": {
  "kernelspec": {
   "display_name": "Python 3",
   "language": "python",
   "name": "python3"
  },
  "language_info": {
   "codemirror_mode": {
    "name": "ipython",
    "version": 3
   },
   "file_extension": ".py",
   "mimetype": "text/x-python",
   "name": "python",
   "nbconvert_exporter": "python",
   "pygments_lexer": "ipython3",
   "version": "3.8.8"
  }
 },
 "nbformat": 4,
 "nbformat_minor": 5
}
