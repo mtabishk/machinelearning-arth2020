{
 "cells": [
  {
   "cell_type": "code",
   "execution_count": 1,
   "id": "48dcef98",
   "metadata": {},
   "outputs": [],
   "source": [
    "import subprocess\n",
    "import spacy"
   ]
  },
  {
   "cell_type": "code",
   "execution_count": 2,
   "id": "dc33d3fa",
   "metadata": {},
   "outputs": [],
   "source": [
    "english = spacy.load('en_core_web_sm')"
   ]
  },
  {
   "cell_type": "code",
   "execution_count": null,
   "id": "e36eeaa3",
   "metadata": {},
   "outputs": [],
   "source": [
    "cmd = input('Enter you\\'r command sir: ')"
   ]
  },
  {
   "cell_type": "code",
   "execution_count": 122,
   "id": "00b03ca0",
   "metadata": {},
   "outputs": [],
   "source": [
    "doc = english(cmd)\n",
    "verbs = []\n",
    "cmds = []\n",
    "dep = True\n",
    "wake_up_word = False\n",
    "# wake up word --> hey tabish\n",
    "if str(doc[0]) == 'hey' and str(doc[1]) == 'tabish':\n",
    "    wake_up_word = True\n",
    "for token in doc:\n",
    "    if token.dep_ == 'neg': # checks if statement is negative e.g., don't run date command --> Here don't is negative\n",
    "        dep = False\n",
    "    if token.pos_ == 'VERB':\n",
    "        verbs.append(token.lemma_)\n",
    "    if token.pos_ == 'NOUN':\n",
    "        cmds.append(token.lemma_)"
   ]
  },
  {
   "cell_type": "code",
   "execution_count": 123,
   "id": "ba4d8e9b",
   "metadata": {},
   "outputs": [
    {
     "data": {
      "text/plain": [
       "['run']"
      ]
     },
     "execution_count": 123,
     "metadata": {},
     "output_type": "execute_result"
    }
   ],
   "source": [
    "verbs"
   ]
  },
  {
   "cell_type": "code",
   "execution_count": 124,
   "id": "94fc1e05",
   "metadata": {},
   "outputs": [
    {
     "data": {
      "text/plain": [
       "['date', 'command']"
      ]
     },
     "execution_count": 124,
     "metadata": {},
     "output_type": "execute_result"
    }
   ],
   "source": [
    "cmds"
   ]
  },
  {
   "cell_type": "code",
   "execution_count": 125,
   "id": "a8f55909",
   "metadata": {},
   "outputs": [
    {
     "data": {
      "text/plain": [
       "True"
      ]
     },
     "execution_count": 125,
     "metadata": {},
     "output_type": "execute_result"
    }
   ],
   "source": [
    "dep"
   ]
  },
  {
   "cell_type": "code",
   "execution_count": 126,
   "id": "71873c3f",
   "metadata": {},
   "outputs": [
    {
     "name": "stdout",
     "output_type": "stream",
     "text": [
      "11-07-2021 \n"
     ]
    }
   ],
   "source": [
    "if wake_up_word:\n",
    "    if dep and 'run' in verbs and 'date' in cmds:\n",
    "        print(subprocess.getoutput('date /t'))\n",
    "    elif dep and 'run' in verbs and 'player' in cmds:\n",
    "        subprocess.getoutput('start wmplayer')\n",
    "    elif dep and 'run' in verbs and 'chrome' in cmds:\n",
    "        subprocess.getoutput('start chrome')\n",
    "    else:\n",
    "        print('Option not supported')\n",
    "else:\n",
    "    print('wake up word not found')"
   ]
  },
  {
   "cell_type": "code",
   "execution_count": 50,
   "id": "d8330012",
   "metadata": {},
   "outputs": [
    {
     "data": {
      "text/plain": [
       "['run']"
      ]
     },
     "execution_count": 50,
     "metadata": {},
     "output_type": "execute_result"
    }
   ],
   "source": [
    "verbs"
   ]
  },
  {
   "cell_type": "code",
   "execution_count": 51,
   "id": "f695b5b0",
   "metadata": {},
   "outputs": [
    {
     "data": {
      "text/plain": [
       "['date', 'command']"
      ]
     },
     "execution_count": 51,
     "metadata": {},
     "output_type": "execute_result"
    }
   ],
   "source": [
    "cmds"
   ]
  },
  {
   "cell_type": "code",
   "execution_count": 52,
   "id": "69084cd9",
   "metadata": {},
   "outputs": [],
   "source": [
    "doc1 = english('since i ran date command yesterday')"
   ]
  },
  {
   "cell_type": "code",
   "execution_count": 53,
   "id": "57f93472",
   "metadata": {},
   "outputs": [
    {
     "name": "stdout",
     "output_type": "stream",
     "text": [
      "since since\n",
      "i I\n",
      "ran run\n",
      "date date\n",
      "command command\n",
      "yesterday yesterday\n"
     ]
    }
   ],
   "source": [
    "for t in doc1:\n",
    "    print(t.text, t.lemma_)"
   ]
  },
  {
   "cell_type": "code",
   "execution_count": 56,
   "id": "6f118975",
   "metadata": {},
   "outputs": [],
   "source": [
    "doc2 = english('can you don\\'t run date command')"
   ]
  },
  {
   "cell_type": "code",
   "execution_count": 58,
   "id": "96e9f347",
   "metadata": {},
   "outputs": [
    {
     "name": "stdout",
     "output_type": "stream",
     "text": [
      "can can aux\n",
      "you you nsubj\n",
      "do do aux\n",
      "n't n't neg\n",
      "run run ROOT\n",
      "date date compound\n",
      "command command dobj\n"
     ]
    }
   ],
   "source": [
    "for t in doc2:\n",
    "    print(t.text, t.lemma_, t.dep_)"
   ]
  },
  {
   "cell_type": "code",
   "execution_count": null,
   "id": "657db0fd",
   "metadata": {},
   "outputs": [],
   "source": [
    " "
   ]
  }
 ],
 "metadata": {
  "kernelspec": {
   "display_name": "Python 3",
   "language": "python",
   "name": "python3"
  },
  "language_info": {
   "codemirror_mode": {
    "name": "ipython",
    "version": 3
   },
   "file_extension": ".py",
   "mimetype": "text/x-python",
   "name": "python",
   "nbconvert_exporter": "python",
   "pygments_lexer": "ipython3",
   "version": "3.8.8"
  }
 },
 "nbformat": 4,
 "nbformat_minor": 5
}
