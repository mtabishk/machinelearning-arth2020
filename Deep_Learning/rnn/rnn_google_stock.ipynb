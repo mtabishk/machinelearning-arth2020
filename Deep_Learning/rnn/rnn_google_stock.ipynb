{
 "cells": [
  {
   "cell_type": "code",
   "execution_count": 1,
   "id": "13a86185",
   "metadata": {},
   "outputs": [],
   "source": [
    "import pandas as pd"
   ]
  },
  {
   "cell_type": "code",
   "execution_count": 2,
   "id": "b9a8eefc",
   "metadata": {},
   "outputs": [],
   "source": [
    "ds_train = pd.read_csv('datasets/Google_Stock_Price_Train.csv')"
   ]
  },
  {
   "cell_type": "code",
   "execution_count": 3,
   "id": "0bce69b8",
   "metadata": {},
   "outputs": [
    {
     "data": {
      "text/html": [
       "<div>\n",
       "<style scoped>\n",
       "    .dataframe tbody tr th:only-of-type {\n",
       "        vertical-align: middle;\n",
       "    }\n",
       "\n",
       "    .dataframe tbody tr th {\n",
       "        vertical-align: top;\n",
       "    }\n",
       "\n",
       "    .dataframe thead th {\n",
       "        text-align: right;\n",
       "    }\n",
       "</style>\n",
       "<table border=\"1\" class=\"dataframe\">\n",
       "  <thead>\n",
       "    <tr style=\"text-align: right;\">\n",
       "      <th></th>\n",
       "      <th>Date</th>\n",
       "      <th>Open</th>\n",
       "      <th>High</th>\n",
       "      <th>Low</th>\n",
       "      <th>Close</th>\n",
       "      <th>Volume</th>\n",
       "    </tr>\n",
       "  </thead>\n",
       "  <tbody>\n",
       "    <tr>\n",
       "      <th>0</th>\n",
       "      <td>1/3/2012</td>\n",
       "      <td>325.25</td>\n",
       "      <td>332.83</td>\n",
       "      <td>324.97</td>\n",
       "      <td>663.59</td>\n",
       "      <td>7,380,500</td>\n",
       "    </tr>\n",
       "    <tr>\n",
       "      <th>1</th>\n",
       "      <td>1/4/2012</td>\n",
       "      <td>331.27</td>\n",
       "      <td>333.87</td>\n",
       "      <td>329.08</td>\n",
       "      <td>666.45</td>\n",
       "      <td>5,749,400</td>\n",
       "    </tr>\n",
       "    <tr>\n",
       "      <th>2</th>\n",
       "      <td>1/5/2012</td>\n",
       "      <td>329.83</td>\n",
       "      <td>330.75</td>\n",
       "      <td>326.89</td>\n",
       "      <td>657.21</td>\n",
       "      <td>6,590,300</td>\n",
       "    </tr>\n",
       "    <tr>\n",
       "      <th>3</th>\n",
       "      <td>1/6/2012</td>\n",
       "      <td>328.34</td>\n",
       "      <td>328.77</td>\n",
       "      <td>323.68</td>\n",
       "      <td>648.24</td>\n",
       "      <td>5,405,900</td>\n",
       "    </tr>\n",
       "    <tr>\n",
       "      <th>4</th>\n",
       "      <td>1/9/2012</td>\n",
       "      <td>322.04</td>\n",
       "      <td>322.29</td>\n",
       "      <td>309.46</td>\n",
       "      <td>620.76</td>\n",
       "      <td>11,688,800</td>\n",
       "    </tr>\n",
       "  </tbody>\n",
       "</table>\n",
       "</div>"
      ],
      "text/plain": [
       "       Date    Open    High     Low   Close      Volume\n",
       "0  1/3/2012  325.25  332.83  324.97  663.59   7,380,500\n",
       "1  1/4/2012  331.27  333.87  329.08  666.45   5,749,400\n",
       "2  1/5/2012  329.83  330.75  326.89  657.21   6,590,300\n",
       "3  1/6/2012  328.34  328.77  323.68  648.24   5,405,900\n",
       "4  1/9/2012  322.04  322.29  309.46  620.76  11,688,800"
      ]
     },
     "execution_count": 3,
     "metadata": {},
     "output_type": "execute_result"
    }
   ],
   "source": [
    "ds_train.head()"
   ]
  },
  {
   "cell_type": "code",
   "execution_count": 4,
   "id": "803c9a7e",
   "metadata": {},
   "outputs": [
    {
     "data": {
      "text/plain": [
       "(1258, 6)"
      ]
     },
     "execution_count": 4,
     "metadata": {},
     "output_type": "execute_result"
    }
   ],
   "source": [
    "ds_train.shape"
   ]
  },
  {
   "cell_type": "code",
   "execution_count": 5,
   "id": "0769d818",
   "metadata": {},
   "outputs": [],
   "source": [
    "ds_test = pd.read_csv('datasets/Google_Stock_Price_Test.csv')"
   ]
  },
  {
   "cell_type": "code",
   "execution_count": 6,
   "id": "18abaf2b",
   "metadata": {},
   "outputs": [
    {
     "data": {
      "text/html": [
       "<div>\n",
       "<style scoped>\n",
       "    .dataframe tbody tr th:only-of-type {\n",
       "        vertical-align: middle;\n",
       "    }\n",
       "\n",
       "    .dataframe tbody tr th {\n",
       "        vertical-align: top;\n",
       "    }\n",
       "\n",
       "    .dataframe thead th {\n",
       "        text-align: right;\n",
       "    }\n",
       "</style>\n",
       "<table border=\"1\" class=\"dataframe\">\n",
       "  <thead>\n",
       "    <tr style=\"text-align: right;\">\n",
       "      <th></th>\n",
       "      <th>Date</th>\n",
       "      <th>Open</th>\n",
       "      <th>High</th>\n",
       "      <th>Low</th>\n",
       "      <th>Close</th>\n",
       "      <th>Volume</th>\n",
       "    </tr>\n",
       "  </thead>\n",
       "  <tbody>\n",
       "    <tr>\n",
       "      <th>0</th>\n",
       "      <td>1/3/2017</td>\n",
       "      <td>778.81</td>\n",
       "      <td>789.63</td>\n",
       "      <td>775.80</td>\n",
       "      <td>786.14</td>\n",
       "      <td>1,657,300</td>\n",
       "    </tr>\n",
       "    <tr>\n",
       "      <th>1</th>\n",
       "      <td>1/4/2017</td>\n",
       "      <td>788.36</td>\n",
       "      <td>791.34</td>\n",
       "      <td>783.16</td>\n",
       "      <td>786.90</td>\n",
       "      <td>1,073,000</td>\n",
       "    </tr>\n",
       "    <tr>\n",
       "      <th>2</th>\n",
       "      <td>1/5/2017</td>\n",
       "      <td>786.08</td>\n",
       "      <td>794.48</td>\n",
       "      <td>785.02</td>\n",
       "      <td>794.02</td>\n",
       "      <td>1,335,200</td>\n",
       "    </tr>\n",
       "    <tr>\n",
       "      <th>3</th>\n",
       "      <td>1/6/2017</td>\n",
       "      <td>795.26</td>\n",
       "      <td>807.90</td>\n",
       "      <td>792.20</td>\n",
       "      <td>806.15</td>\n",
       "      <td>1,640,200</td>\n",
       "    </tr>\n",
       "    <tr>\n",
       "      <th>4</th>\n",
       "      <td>1/9/2017</td>\n",
       "      <td>806.40</td>\n",
       "      <td>809.97</td>\n",
       "      <td>802.83</td>\n",
       "      <td>806.65</td>\n",
       "      <td>1,272,400</td>\n",
       "    </tr>\n",
       "  </tbody>\n",
       "</table>\n",
       "</div>"
      ],
      "text/plain": [
       "       Date    Open    High     Low   Close     Volume\n",
       "0  1/3/2017  778.81  789.63  775.80  786.14  1,657,300\n",
       "1  1/4/2017  788.36  791.34  783.16  786.90  1,073,000\n",
       "2  1/5/2017  786.08  794.48  785.02  794.02  1,335,200\n",
       "3  1/6/2017  795.26  807.90  792.20  806.15  1,640,200\n",
       "4  1/9/2017  806.40  809.97  802.83  806.65  1,272,400"
      ]
     },
     "execution_count": 6,
     "metadata": {},
     "output_type": "execute_result"
    }
   ],
   "source": [
    "ds_test.head()"
   ]
  },
  {
   "cell_type": "code",
   "execution_count": 7,
   "id": "f6f40852",
   "metadata": {},
   "outputs": [
    {
     "data": {
      "text/plain": [
       "(20, 6)"
      ]
     },
     "execution_count": 7,
     "metadata": {},
     "output_type": "execute_result"
    }
   ],
   "source": [
    "ds_test.shape"
   ]
  },
  {
   "cell_type": "code",
   "execution_count": 8,
   "id": "9a82f6b0",
   "metadata": {},
   "outputs": [],
   "source": [
    "training_set = ds_train[['Open']]"
   ]
  },
  {
   "cell_type": "code",
   "execution_count": 9,
   "id": "86c30020",
   "metadata": {},
   "outputs": [
    {
     "data": {
      "text/plain": [
       "(1258, 1)"
      ]
     },
     "execution_count": 9,
     "metadata": {},
     "output_type": "execute_result"
    }
   ],
   "source": [
    "training_set.shape"
   ]
  },
  {
   "cell_type": "code",
   "execution_count": 10,
   "id": "20996e21",
   "metadata": {},
   "outputs": [
    {
     "data": {
      "text/plain": [
       "<AxesSubplot:>"
      ]
     },
     "execution_count": 10,
     "metadata": {},
     "output_type": "execute_result"
    },
    {
     "data": {
      "image/png": "[encoded data removed]",
      "text/plain": [
       "<Figure size 432x288 with 1 Axes>"
      ]
     },
     "metadata": {
      "needs_background": "light"
     },
     "output_type": "display_data"
    }
   ],
   "source": [
    "training_set.plot()"
   ]
  },
  {
   "cell_type": "code",
   "execution_count": 11,
   "id": "2edb5da3",
   "metadata": {},
   "outputs": [],
   "source": [
    "test_set = ds_test[['Open']]"
   ]
  },
  {
   "cell_type": "code",
   "execution_count": 12,
   "id": "f94bd5a5",
   "metadata": {},
   "outputs": [
    {
     "data": {
      "text/plain": [
       "<AxesSubplot:>"
      ]
     },
     "execution_count": 12,
     "metadata": {},
     "output_type": "execute_result"
    },
    {
     "data": {
      "image/png": "[encoded data removed]",
      "text/plain": [
       "<Figure size 432x288 with 1 Axes>"
      ]
     },
     "metadata": {
      "needs_background": "light"
     },
     "output_type": "display_data"
    }
   ],
   "source": [
    "test_set.plot()"
   ]
  },
  {
   "cell_type": "code",
   "execution_count": 13,
   "id": "f5a1895f",
   "metadata": {},
   "outputs": [],
   "source": [
    "from sklearn.preprocessing import MinMaxScaler"
   ]
  },
  {
   "cell_type": "code",
   "execution_count": 14,
   "id": "1135ad92",
   "metadata": {},
   "outputs": [],
   "source": [
    "normalizer = MinMaxScaler(feature_range=(0,1))"
   ]
  },
  {
   "cell_type": "code",
   "execution_count": 15,
   "id": "a3e505ab",
   "metadata": {},
   "outputs": [],
   "source": [
    "training_set_scaled = normalizer.fit_transform(training_set)"
   ]
  },
  {
   "cell_type": "code",
   "execution_count": 16,
   "id": "1f6ca554",
   "metadata": {},
   "outputs": [
    {
     "data": {
      "text/plain": [
       "(1258, 1)"
      ]
     },
     "execution_count": 16,
     "metadata": {},
     "output_type": "execute_result"
    }
   ],
   "source": [
    "training_set_scaled.shape"
   ]
  },
  {
   "cell_type": "code",
   "execution_count": 17,
   "id": "9b252f10",
   "metadata": {},
   "outputs": [
    {
     "data": {
      "text/plain": [
       "array([0.08581368, 0.09701243, 0.09433366, ..., 0.95725128, 0.93796041,\n",
       "       0.93688146])"
      ]
     },
     "execution_count": 17,
     "metadata": {},
     "output_type": "execute_result"
    }
   ],
   "source": [
    "training_set_scaled[:,0]"
   ]
  },
  {
   "cell_type": "code",
   "execution_count": 18,
   "id": "b9a60dcd",
   "metadata": {},
   "outputs": [],
   "source": [
    "X_train = []"
   ]
  },
  {
   "cell_type": "code",
   "execution_count": 19,
   "id": "1f4b0abf",
   "metadata": {},
   "outputs": [],
   "source": [
    "y_train = []"
   ]
  },
  {
   "cell_type": "code",
   "execution_count": 20,
   "id": "2d8c23cf",
   "metadata": {},
   "outputs": [],
   "source": [
    "steps = 60"
   ]
  },
  {
   "cell_type": "code",
   "execution_count": 21,
   "id": "bfe115b1",
   "metadata": {},
   "outputs": [],
   "source": [
    "for i in range(len(training_set_scaled) - steps):\n",
    "    X_train.append(training_set_scaled[i:i+steps])\n",
    "    y_train.append(training_set_scaled[i+steps])\n",
    "    "
   ]
  },
  {
   "cell_type": "code",
   "execution_count": 46,
   "id": "182f39b4",
   "metadata": {},
   "outputs": [
    {
     "data": {
      "text/plain": [
       "1198"
      ]
     },
     "execution_count": 46,
     "metadata": {},
     "output_type": "execute_result"
    }
   ],
   "source": [
    "len(X_train)"
   ]
  },
  {
   "cell_type": "code",
   "execution_count": 23,
   "id": "19d04bb4",
   "metadata": {},
   "outputs": [],
   "source": [
    "import numpy as np"
   ]
  },
  {
   "cell_type": "code",
   "execution_count": 24,
   "id": "08260e29",
   "metadata": {},
   "outputs": [],
   "source": [
    "trainX = np.array(X_train)"
   ]
  },
  {
   "cell_type": "code",
   "execution_count": 25,
   "id": "88777c24",
   "metadata": {},
   "outputs": [
    {
     "data": {
      "text/plain": [
       "(1198, 60, 1)"
      ]
     },
     "execution_count": 25,
     "metadata": {},
     "output_type": "execute_result"
    }
   ],
   "source": [
    "trainX.shape"
   ]
  },
  {
   "cell_type": "code",
   "execution_count": 26,
   "id": "dd9661cb",
   "metadata": {},
   "outputs": [],
   "source": [
    "trainY = np.array(y_train)"
   ]
  },
  {
   "cell_type": "code",
   "execution_count": 27,
   "id": "880f4743",
   "metadata": {},
   "outputs": [
    {
     "data": {
      "text/plain": [
       "(1198, 1)"
      ]
     },
     "execution_count": 27,
     "metadata": {},
     "output_type": "execute_result"
    }
   ],
   "source": [
    "trainY.shape"
   ]
  },
  {
   "cell_type": "code",
   "execution_count": 28,
   "id": "a634739b",
   "metadata": {},
   "outputs": [],
   "source": [
    "from keras.models import Sequential"
   ]
  },
  {
   "cell_type": "code",
   "execution_count": 29,
   "id": "dae00aad",
   "metadata": {},
   "outputs": [],
   "source": [
    "model = Sequential()"
   ]
  },
  {
   "cell_type": "code",
   "execution_count": 30,
   "id": "ccfc1d3a",
   "metadata": {},
   "outputs": [],
   "source": [
    "from keras.layers import Dense\n",
    "from keras.layers import LSTM"
   ]
  },
  {
   "cell_type": "code",
   "execution_count": 31,
   "id": "9c320c99",
   "metadata": {},
   "outputs": [],
   "source": [
    "model.add(LSTM(units=60, input_shape=(60,1), return_sequences=True))"
   ]
  },
  {
   "cell_type": "code",
   "execution_count": 32,
   "id": "e2a95be6",
   "metadata": {},
   "outputs": [
    {
     "data": {
      "text/plain": [
       "{'name': 'sequential',\n",
       " 'layers': [{'class_name': 'InputLayer',\n",
       "   'config': {'batch_input_shape': (None, 60, 1),\n",
       "    'dtype': 'float32',\n",
       "    'sparse': False,\n",
       "    'ragged': False,\n",
       "    'name': 'lstm_input'}},\n",
       "  {'class_name': 'LSTM',\n",
       "   'config': {'name': 'lstm',\n",
       "    'trainable': True,\n",
       "    'batch_input_shape': (None, 60, 1),\n",
       "    'dtype': 'float32',\n",
       "    'return_sequences': True,\n",
       "    'return_state': False,\n",
       "    'go_backwards': False,\n",
       "    'stateful': False,\n",
       "    'unroll': False,\n",
       "    'time_major': False,\n",
       "    'units': 60,\n",
       "    'activation': 'tanh',\n",
       "    'recurrent_activation': 'sigmoid',\n",
       "    'use_bias': True,\n",
       "    'kernel_initializer': {'class_name': 'GlorotUniform',\n",
       "     'config': {'seed': None}},\n",
       "    'recurrent_initializer': {'class_name': 'Orthogonal',\n",
       "     'config': {'gain': 1.0, 'seed': None}},\n",
       "    'bias_initializer': {'class_name': 'Zeros', 'config': {}},\n",
       "    'unit_forget_bias': True,\n",
       "    'kernel_regularizer': None,\n",
       "    'recurrent_regularizer': None,\n",
       "    'bias_regularizer': None,\n",
       "    'activity_regularizer': None,\n",
       "    'kernel_constraint': None,\n",
       "    'recurrent_constraint': None,\n",
       "    'bias_constraint': None,\n",
       "    'dropout': 0.0,\n",
       "    'recurrent_dropout': 0.0,\n",
       "    'implementation': 2}}]}"
      ]
     },
     "execution_count": 32,
     "metadata": {},
     "output_type": "execute_result"
    }
   ],
   "source": [
    "model.get_config()"
   ]
  },
  {
   "cell_type": "code",
   "execution_count": 33,
   "id": "7528905a",
   "metadata": {},
   "outputs": [],
   "source": [
    "model.add(LSTM(units=60, return_sequences=True))"
   ]
  },
  {
   "cell_type": "code",
   "execution_count": 34,
   "id": "0e5f05cc",
   "metadata": {},
   "outputs": [],
   "source": [
    "model.add(LSTM(units=60))"
   ]
  },
  {
   "cell_type": "code",
   "execution_count": 35,
   "id": "f3e54e0c",
   "metadata": {},
   "outputs": [
    {
     "data": {
      "text/plain": [
       "{'name': 'sequential',\n",
       " 'layers': [{'class_name': 'InputLayer',\n",
       "   'config': {'batch_input_shape': (None, 60, 1),\n",
       "    'dtype': 'float32',\n",
       "    'sparse': False,\n",
       "    'ragged': False,\n",
       "    'name': 'lstm_input'}},\n",
       "  {'class_name': 'LSTM',\n",
       "   'config': {'name': 'lstm',\n",
       "    'trainable': True,\n",
       "    'batch_input_shape': (None, 60, 1),\n",
       "    'dtype': 'float32',\n",
       "    'return_sequences': True,\n",
       "    'return_state': False,\n",
       "    'go_backwards': False,\n",
       "    'stateful': False,\n",
       "    'unroll': False,\n",
       "    'time_major': False,\n",
       "    'units': 60,\n",
       "    'activation': 'tanh',\n",
       "    'recurrent_activation': 'sigmoid',\n",
       "    'use_bias': True,\n",
       "    'kernel_initializer': {'class_name': 'GlorotUniform',\n",
       "     'config': {'seed': None}},\n",
       "    'recurrent_initializer': {'class_name': 'Orthogonal',\n",
       "     'config': {'gain': 1.0, 'seed': None}},\n",
       "    'bias_initializer': {'class_name': 'Zeros', 'config': {}},\n",
       "    'unit_forget_bias': True,\n",
       "    'kernel_regularizer': None,\n",
       "    'recurrent_regularizer': None,\n",
       "    'bias_regularizer': None,\n",
       "    'activity_regularizer': None,\n",
       "    'kernel_constraint': None,\n",
       "    'recurrent_constraint': None,\n",
       "    'bias_constraint': None,\n",
       "    'dropout': 0.0,\n",
       "    'recurrent_dropout': 0.0,\n",
       "    'implementation': 2}},\n",
       "  {'class_name': 'LSTM',\n",
       "   'config': {'name': 'lstm_1',\n",
       "    'trainable': True,\n",
       "    'dtype': 'float32',\n",
       "    'return_sequences': True,\n",
       "    'return_state': False,\n",
       "    'go_backwards': False,\n",
       "    'stateful': False,\n",
       "    'unroll': False,\n",
       "    'time_major': False,\n",
       "    'units': 60,\n",
       "    'activation': 'tanh',\n",
       "    'recurrent_activation': 'sigmoid',\n",
       "    'use_bias': True,\n",
       "    'kernel_initializer': {'class_name': 'GlorotUniform',\n",
       "     'config': {'seed': None}},\n",
       "    'recurrent_initializer': {'class_name': 'Orthogonal',\n",
       "     'config': {'gain': 1.0, 'seed': None}},\n",
       "    'bias_initializer': {'class_name': 'Zeros', 'config': {}},\n",
       "    'unit_forget_bias': True,\n",
       "    'kernel_regularizer': None,\n",
       "    'recurrent_regularizer': None,\n",
       "    'bias_regularizer': None,\n",
       "    'activity_regularizer': None,\n",
       "    'kernel_constraint': None,\n",
       "    'recurrent_constraint': None,\n",
       "    'bias_constraint': None,\n",
       "    'dropout': 0.0,\n",
       "    'recurrent_dropout': 0.0,\n",
       "    'implementation': 2}},\n",
       "  {'class_name': 'LSTM',\n",
       "   'config': {'name': 'lstm_2',\n",
       "    'trainable': True,\n",
       "    'dtype': 'float32',\n",
       "    'return_sequences': False,\n",
       "    'return_state': False,\n",
       "    'go_backwards': False,\n",
       "    'stateful': False,\n",
       "    'unroll': False,\n",
       "    'time_major': False,\n",
       "    'units': 60,\n",
       "    'activation': 'tanh',\n",
       "    'recurrent_activation': 'sigmoid',\n",
       "    'use_bias': True,\n",
       "    'kernel_initializer': {'class_name': 'GlorotUniform',\n",
       "     'config': {'seed': None}},\n",
       "    'recurrent_initializer': {'class_name': 'Orthogonal',\n",
       "     'config': {'gain': 1.0, 'seed': None}},\n",
       "    'bias_initializer': {'class_name': 'Zeros', 'config': {}},\n",
       "    'unit_forget_bias': True,\n",
       "    'kernel_regularizer': None,\n",
       "    'recurrent_regularizer': None,\n",
       "    'bias_regularizer': None,\n",
       "    'activity_regularizer': None,\n",
       "    'kernel_constraint': None,\n",
       "    'recurrent_constraint': None,\n",
       "    'bias_constraint': None,\n",
       "    'dropout': 0.0,\n",
       "    'recurrent_dropout': 0.0,\n",
       "    'implementation': 2}}]}"
      ]
     },
     "execution_count": 35,
     "metadata": {},
     "output_type": "execute_result"
    }
   ],
   "source": [
    "model.get_config()"
   ]
  },
  {
   "cell_type": "code",
   "execution_count": 36,
   "id": "2bbd5043",
   "metadata": {},
   "outputs": [],
   "source": [
    "model.add(Dense(units=1, activation='linear'))"
   ]
  },
  {
   "cell_type": "code",
   "execution_count": 37,
   "id": "f2b0479a",
   "metadata": {},
   "outputs": [],
   "source": [
    "model.compile(loss='mean_squared_error', optimizer='adam')"
   ]
  },
  {
   "cell_type": "code",
   "execution_count": 38,
   "id": "4d402a9b",
   "metadata": {},
   "outputs": [
    {
     "name": "stdout",
     "output_type": "stream",
     "text": [
      "Epoch 1/100\n",
      "38/38 [==============================] - 20s 39ms/step - loss: 0.0556\n",
      "Epoch 2/100\n",
      "38/38 [==============================] - 2s 40ms/step - loss: 0.0020\n",
      "Epoch 3/100\n",
      "38/38 [==============================] - 2s 41ms/step - loss: 0.0015\n",
      "Epoch 4/100\n",
      "38/38 [==============================] - 2s 41ms/step - loss: 0.0014\n",
      "Epoch 5/100\n",
      "38/38 [==============================] - 2s 41ms/step - loss: 0.0016\n",
      "Epoch 6/100\n",
      "38/38 [==============================] - 2s 41ms/step - loss: 0.0018\n",
      "Epoch 7/100\n",
      "38/38 [==============================] - 2s 42ms/step - loss: 0.0013\n",
      "Epoch 8/100\n",
      "38/38 [==============================] - 2s 43ms/step - loss: 0.0013\n",
      "Epoch 9/100\n",
      "38/38 [==============================] - 2s 42ms/step - loss: 0.0018\n",
      "Epoch 10/100\n",
      "38/38 [==============================] - 2s 43ms/step - loss: 0.0013\n",
      "Epoch 11/100\n",
      "38/38 [==============================] - 2s 43ms/step - loss: 0.0012\n",
      "Epoch 12/100\n",
      "38/38 [==============================] - 2s 43ms/step - loss: 0.0013\n",
      "Epoch 13/100\n",
      "38/38 [==============================] - 2s 43ms/step - loss: 8.9911e-04\n",
      "Epoch 14/100\n",
      "38/38 [==============================] - 2s 43ms/step - loss: 0.0011\n",
      "Epoch 15/100\n",
      "38/38 [==============================] - 2s 44ms/step - loss: 0.0012\n",
      "Epoch 16/100\n",
      "38/38 [==============================] - 2s 44ms/step - loss: 9.6864e-04\n",
      "Epoch 17/100\n",
      "38/38 [==============================] - 2s 43ms/step - loss: 8.7361e-04\n",
      "Epoch 18/100\n",
      "38/38 [==============================] - 2s 44ms/step - loss: 0.0010\n",
      "Epoch 19/100\n",
      "38/38 [==============================] - 2s 44ms/step - loss: 8.2857e-04\n",
      "Epoch 20/100\n",
      "38/38 [==============================] - 2s 44ms/step - loss: 9.5515e-04\n",
      "Epoch 21/100\n",
      "38/38 [==============================] - 2s 44ms/step - loss: 8.0430e-04\n",
      "Epoch 22/100\n",
      "38/38 [==============================] - 2s 45ms/step - loss: 8.8239e-04\n",
      "Epoch 23/100\n",
      "38/38 [==============================] - 2s 44ms/step - loss: 7.5492e-04: 0s - loss: 7\n",
      "Epoch 24/100\n",
      "38/38 [==============================] - 2s 45ms/step - loss: 9.2080e-04\n",
      "Epoch 25/100\n",
      "38/38 [==============================] - 2s 44ms/step - loss: 8.0217e-04\n",
      "Epoch 26/100\n",
      "38/38 [==============================] - 2s 44ms/step - loss: 6.5491e-04\n",
      "Epoch 27/100\n",
      "38/38 [==============================] - 2s 45ms/step - loss: 6.2579e-04\n",
      "Epoch 28/100\n",
      "38/38 [==============================] - 2s 44ms/step - loss: 5.9452e-04\n",
      "Epoch 29/100\n",
      "38/38 [==============================] - 2s 45ms/step - loss: 8.3200e-04: 1s - los\n",
      "Epoch 30/100\n",
      "38/38 [==============================] - 2s 44ms/step - loss: 5.7098e-04\n",
      "Epoch 31/100\n",
      "38/38 [==============================] - 2s 44ms/step - loss: 7.1078e-04\n",
      "Epoch 32/100\n",
      "38/38 [==============================] - 2s 44ms/step - loss: 6.2195e-04\n",
      "Epoch 33/100\n",
      "38/38 [==============================] - 2s 45ms/step - loss: 4.9865e-04\n",
      "Epoch 34/100\n",
      "38/38 [==============================] - 2s 45ms/step - loss: 4.4762e-04\n",
      "Epoch 35/100\n",
      "38/38 [==============================] - 2s 45ms/step - loss: 4.8933e-04: 0s - loss: 4.\n",
      "Epoch 36/100\n",
      "38/38 [==============================] - 2s 45ms/step - loss: 5.3014e-04\n",
      "Epoch 37/100\n",
      "38/38 [==============================] - 2s 45ms/step - loss: 4.8182e-04\n",
      "Epoch 38/100\n",
      "38/38 [==============================] - 2s 46ms/step - loss: 5.3467e-04\n",
      "Epoch 39/100\n",
      "38/38 [==============================] - 2s 45ms/step - loss: 6.6598e-04\n",
      "Epoch 40/100\n",
      "38/38 [==============================] - 2s 44ms/step - loss: 8.9329e-04\n",
      "Epoch 41/100\n",
      "38/38 [==============================] - 2s 44ms/step - loss: 4.7397e-04\n",
      "Epoch 42/100\n",
      "38/38 [==============================] - 2s 47ms/step - loss: 4.3305e-04\n",
      "Epoch 43/100\n",
      "38/38 [==============================] - 2s 47ms/step - loss: 3.6443e-04\n",
      "Epoch 44/100\n",
      "38/38 [==============================] - 2s 53ms/step - loss: 3.4712e-04\n",
      "Epoch 45/100\n",
      "38/38 [==============================] - 2s 53ms/step - loss: 4.0948e-04\n",
      "Epoch 46/100\n",
      "38/38 [==============================] - 2s 45ms/step - loss: 3.0420e-04\n",
      "Epoch 47/100\n",
      "38/38 [==============================] - 2s 45ms/step - loss: 3.9974e-04\n",
      "Epoch 48/100\n",
      "38/38 [==============================] - 2s 45ms/step - loss: 2.9925e-04\n",
      "Epoch 49/100\n",
      "38/38 [==============================] - 2s 46ms/step - loss: 3.9758e-04\n",
      "Epoch 50/100\n",
      "38/38 [==============================] - 2s 47ms/step - loss: 3.1656e-04\n",
      "Epoch 51/100\n",
      "38/38 [==============================] - 2s 45ms/step - loss: 4.4825e-04\n",
      "Epoch 52/100\n",
      "38/38 [==============================] - 2s 45ms/step - loss: 3.0263e-04\n",
      "Epoch 53/100\n",
      "38/38 [==============================] - 2s 45ms/step - loss: 3.3475e-04\n",
      "Epoch 54/100\n",
      "38/38 [==============================] - 2s 45ms/step - loss: 4.3949e-04\n",
      "Epoch 55/100\n",
      "38/38 [==============================] - 2s 45ms/step - loss: 5.6772e-04\n",
      "Epoch 56/100\n",
      "38/38 [==============================] - 2s 47ms/step - loss: 3.7092e-04\n",
      "Epoch 57/100\n",
      "38/38 [==============================] - 2s 45ms/step - loss: 3.7088e-04\n",
      "Epoch 58/100\n",
      "38/38 [==============================] - 2s 45ms/step - loss: 2.8324e-04\n",
      "Epoch 59/100\n",
      "38/38 [==============================] - 2s 45ms/step - loss: 3.4350e-04\n",
      "Epoch 60/100\n",
      "38/38 [==============================] - 2s 45ms/step - loss: 2.6434e-04\n",
      "Epoch 61/100\n",
      "38/38 [==============================] - 2s 45ms/step - loss: 2.8870e-04\n",
      "Epoch 62/100\n",
      "38/38 [==============================] - 2s 46ms/step - loss: 3.8919e-04\n",
      "Epoch 63/100\n",
      "38/38 [==============================] - 2s 45ms/step - loss: 4.2907e-04\n",
      "Epoch 64/100\n",
      "38/38 [==============================] - 2s 45ms/step - loss: 3.2063e-04\n",
      "Epoch 65/100\n",
      "38/38 [==============================] - 2s 45ms/step - loss: 3.3108e-04\n",
      "Epoch 66/100\n",
      "38/38 [==============================] - 2s 45ms/step - loss: 4.2659e-04\n",
      "Epoch 67/100\n",
      "38/38 [==============================] - 2s 45ms/step - loss: 3.3360e-04\n",
      "Epoch 68/100\n",
      "38/38 [==============================] - 2s 45ms/step - loss: 3.7179e-04\n",
      "Epoch 69/100\n",
      "38/38 [==============================] - 2s 45ms/step - loss: 4.2534e-04\n",
      "Epoch 70/100\n",
      "38/38 [==============================] - 2s 46ms/step - loss: 4.5215e-04\n",
      "Epoch 71/100\n",
      "38/38 [==============================] - 2s 45ms/step - loss: 3.5784e-04\n",
      "Epoch 72/100\n",
      "38/38 [==============================] - 2s 44ms/step - loss: 3.8077e-04\n",
      "Epoch 73/100\n",
      "38/38 [==============================] - 2s 45ms/step - loss: 4.6530e-04\n",
      "Epoch 74/100\n",
      "38/38 [==============================] - 2s 45ms/step - loss: 4.1579e-04\n",
      "Epoch 75/100\n",
      "38/38 [==============================] - 2s 45ms/step - loss: 3.3917e-04\n",
      "Epoch 76/100\n",
      "38/38 [==============================] - 2s 45ms/step - loss: 3.1321e-04\n",
      "Epoch 77/100\n",
      "38/38 [==============================] - 2s 45ms/step - loss: 4.6639e-04\n",
      "Epoch 78/100\n",
      "38/38 [==============================] - 2s 45ms/step - loss: 3.3682e-04\n",
      "Epoch 79/100\n",
      "38/38 [==============================] - 2s 44ms/step - loss: 3.4774e-04\n",
      "Epoch 80/100\n",
      "38/38 [==============================] - 2s 45ms/step - loss: 3.4365e-04\n",
      "Epoch 81/100\n",
      "38/38 [==============================] - 2s 46ms/step - loss: 2.3977e-04\n",
      "Epoch 82/100\n",
      "38/38 [==============================] - 2s 45ms/step - loss: 3.4360e-04\n",
      "Epoch 83/100\n",
      "38/38 [==============================] - 2s 45ms/step - loss: 3.1387e-04: 0s - loss: 3.2\n",
      "Epoch 84/100\n",
      "38/38 [==============================] - 2s 45ms/step - loss: 3.0118e-04\n",
      "Epoch 85/100\n",
      "38/38 [==============================] - 2s 45ms/step - loss: 3.1256e-04\n",
      "Epoch 86/100\n",
      "38/38 [==============================] - 2s 45ms/step - loss: 3.6444e-04\n",
      "Epoch 87/100\n",
      "38/38 [==============================] - 2s 44ms/step - loss: 3.4982e-04\n",
      "Epoch 88/100\n",
      "38/38 [==============================] - 2s 45ms/step - loss: 3.0041e-04\n",
      "Epoch 89/100\n",
      "38/38 [==============================] - 2s 45ms/step - loss: 3.5757e-04\n",
      "Epoch 90/100\n",
      "38/38 [==============================] - 2s 45ms/step - loss: 2.7914e-04\n",
      "Epoch 91/100\n",
      "38/38 [==============================] - 2s 45ms/step - loss: 3.2625e-04\n",
      "Epoch 92/100\n",
      "38/38 [==============================] - 2s 46ms/step - loss: 3.7424e-04\n",
      "Epoch 93/100\n",
      "38/38 [==============================] - 2s 45ms/step - loss: 3.0356e-04\n",
      "Epoch 94/100\n",
      "38/38 [==============================] - 2s 45ms/step - loss: 4.3144e-04\n",
      "Epoch 95/100\n",
      "38/38 [==============================] - 2s 44ms/step - loss: 3.2562e-04\n",
      "Epoch 96/100\n",
      "38/38 [==============================] - 2s 45ms/step - loss: 2.7159e-04\n",
      "Epoch 97/100\n",
      "38/38 [==============================] - 2s 49ms/step - loss: 2.8953e-04\n",
      "Epoch 98/100\n",
      "38/38 [==============================] - 2s 45ms/step - loss: 3.2591e-04\n",
      "Epoch 99/100\n",
      "38/38 [==============================] - 2s 44ms/step - loss: 3.1797e-04\n",
      "Epoch 100/100\n",
      "38/38 [==============================] - 2s 45ms/step - loss: 3.2423e-04: 1s - los\n"
     ]
    },
    {
     "data": {
      "text/plain": [
       "<keras.callbacks.History at 0x2827ad3cc40>"
      ]
     },
     "execution_count": 38,
     "metadata": {},
     "output_type": "execute_result"
    }
   ],
   "source": [
    "model.fit(trainX, trainY, epochs=100)"
   ]
  },
  {
   "cell_type": "code",
   "execution_count": 48,
   "id": "172eadc1",
   "metadata": {},
   "outputs": [],
   "source": [
    "l = model.history.history['loss']"
   ]
  },
  {
   "cell_type": "code",
   "execution_count": 49,
   "id": "e59e2d0d",
   "metadata": {},
   "outputs": [],
   "source": [
    "pdl = pd.DataFrame(l)"
   ]
  },
  {
   "cell_type": "code",
   "execution_count": 50,
   "id": "b6bc6f81",
   "metadata": {},
   "outputs": [
    {
     "data": {
      "text/plain": [
       "<AxesSubplot:>"
      ]
     },
     "execution_count": 50,
     "metadata": {},
     "output_type": "execute_result"
    },
    {
     "data": {
      "image/png": "[encoded data removed]",
      "text/plain": [
       "<Figure size 432x288 with 1 Axes>"
      ]
     },
     "metadata": {
      "needs_background": "light"
     },
     "output_type": "display_data"
    }
   ],
   "source": [
    "pdl.plot()"
   ]
  },
  {
   "cell_type": "code",
   "execution_count": null,
   "id": "c468d1ac",
   "metadata": {},
   "outputs": [],
   "source": []
  }
 ],
 "metadata": {
  "kernelspec": {
   "display_name": "Python 3",
   "language": "python",
   "name": "python3"
  },
  "language_info": {
   "codemirror_mode": {
    "name": "ipython",
    "version": 3
   },
   "file_extension": ".py",
   "mimetype": "text/x-python",
   "name": "python",
   "nbconvert_exporter": "python",
   "pygments_lexer": "ipython3",
   "version": "3.8.8"
  }
 },
 "nbformat": 4,
 "nbformat_minor": 5
}
