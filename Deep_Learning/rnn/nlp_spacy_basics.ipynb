{
 "cells": [
  {
   "cell_type": "code",
   "execution_count": 2,
   "id": "de218dab",
   "metadata": {},
   "outputs": [],
   "source": [
    "import spacy"
   ]
  },
  {
   "cell_type": "code",
   "execution_count": 3,
   "id": "2499dc30",
   "metadata": {},
   "outputs": [],
   "source": [
    "nlp = spacy.load('en_core_web_sm') # loading english model"
   ]
  },
  {
   "cell_type": "code",
   "execution_count": 4,
   "id": "20442526",
   "metadata": {},
   "outputs": [],
   "source": [
    "text = \"Apple is the first U.S. public company reaching a $1 trillion market value.\""
   ]
  },
  {
   "cell_type": "code",
   "execution_count": 5,
   "id": "88faee62",
   "metadata": {},
   "outputs": [],
   "source": [
    "doc = nlp(text)"
   ]
  },
  {
   "cell_type": "code",
   "execution_count": 6,
   "id": "5f797aab",
   "metadata": {},
   "outputs": [
    {
     "data": {
      "text/plain": [
       "Apple is the first U.S. public company reaching a $1 trillion market value."
      ]
     },
     "execution_count": 6,
     "metadata": {},
     "output_type": "execute_result"
    }
   ],
   "source": [
    "doc"
   ]
  },
  {
   "cell_type": "code",
   "execution_count": 7,
   "id": "22caad9a",
   "metadata": {},
   "outputs": [
    {
     "data": {
      "text/plain": [
       "spacy.tokens.doc.Doc"
      ]
     },
     "execution_count": 7,
     "metadata": {},
     "output_type": "execute_result"
    }
   ],
   "source": [
    "type(doc)"
   ]
  },
  {
   "cell_type": "code",
   "execution_count": 8,
   "id": "eafaa399",
   "metadata": {},
   "outputs": [
    {
     "name": "stdout",
     "output_type": "stream",
     "text": [
      "Apple\n",
      "is\n",
      "the\n",
      "first\n",
      "U.S.\n",
      "public\n",
      "company\n",
      "reaching\n",
      "a\n",
      "$\n",
      "1\n",
      "trillion\n",
      "market\n",
      "value\n",
      ".\n"
     ]
    }
   ],
   "source": [
    "for d in doc:\n",
    "    print(d)"
   ]
  },
  {
   "cell_type": "code",
   "execution_count": 9,
   "id": "bc7306a9",
   "metadata": {},
   "outputs": [
    {
     "data": {
      "text/plain": [
       "'Apple'"
      ]
     },
     "execution_count": 9,
     "metadata": {},
     "output_type": "execute_result"
    }
   ],
   "source": [
    "doc[0].text"
   ]
  },
  {
   "cell_type": "code",
   "execution_count": 10,
   "id": "06f968da",
   "metadata": {},
   "outputs": [
    {
     "data": {
      "text/plain": [
       "'PROPN'"
      ]
     },
     "execution_count": 10,
     "metadata": {},
     "output_type": "execute_result"
    }
   ],
   "source": [
    "doc[0].pos_ # POS: Part of speech"
   ]
  },
  {
   "cell_type": "code",
   "execution_count": 11,
   "id": "64b1a663",
   "metadata": {},
   "outputs": [
    {
     "data": {
      "text/plain": [
       "'nsubj'"
      ]
     },
     "execution_count": 11,
     "metadata": {},
     "output_type": "execute_result"
    }
   ],
   "source": [
    "doc[0].dep_ # syntactic dependencies"
   ]
  },
  {
   "cell_type": "code",
   "execution_count": 12,
   "id": "1caa8862",
   "metadata": {},
   "outputs": [
    {
     "data": {
      "text/plain": [
       "'Apple'"
      ]
     },
     "execution_count": 12,
     "metadata": {},
     "output_type": "execute_result"
    }
   ],
   "source": [
    "doc[0].lemma_"
   ]
  },
  {
   "cell_type": "code",
   "execution_count": 18,
   "id": "77663e76",
   "metadata": {},
   "outputs": [
    {
     "name": "stdout",
     "output_type": "stream",
     "text": [
      "Apple       PROPN     nsubj     Apple     \n",
      "is          AUX       ROOT      be        \n",
      "the         DET       det       the       \n",
      "first       ADJ       amod      first     \n",
      "U.S.        PROPN     nmod      U.S.      \n",
      "public      ADJ       amod      public    \n",
      "company     NOUN      attr      company   \n",
      "reaching    VERB      acl       reach     \n",
      "a           DET       det       a         \n",
      "$           SYM       quantmod  $         \n",
      "1           NUM       compound  1         \n",
      "trillion    NUM       nummod    trillion  \n",
      "market      NOUN      compound  market    \n",
      "value       NOUN      dobj      value     \n",
      ".           PUNCT     punct     .         \n"
     ]
    }
   ],
   "source": [
    " for token in doc:\n",
    "     # Get the token text, part-of-speech tag and dependency label\n",
    "    token_text = token.text\n",
    "    token_pos= token.pos_\n",
    "    token_dep = token.dep_\n",
    "    token_lemma = token.lemma_\n",
    "    # This is for formatting only\n",
    "    print(f\"{token_text:<12}{token_pos:<10}{token_dep:<10}{token_lemma:<10}\")  "
   ]
  },
  {
   "cell_type": "code",
   "execution_count": 56,
   "id": "c30149b3",
   "metadata": {},
   "outputs": [
    {
     "data": {
      "text/plain": [
       "[('tok2vec', <spacy.pipeline.tok2vec.Tok2Vec at 0x1ea0939f270>),\n",
       " ('tagger', <spacy.pipeline.tagger.Tagger at 0x1ea09495a40>),\n",
       " ('parser', <spacy.pipeline.dep_parser.DependencyParser at 0x1ea08f60b20>),\n",
       " ('attribute_ruler',\n",
       "  <spacy.pipeline.attributeruler.AttributeRuler at 0x1ea08f8c7c0>),\n",
       " ('lemmatizer', <spacy.lang.en.lemmatizer.EnglishLemmatizer at 0x1ea0901b140>),\n",
       " ('ner', <spacy.pipeline.ner.EntityRecognizer at 0x1ea08f60940>)]"
      ]
     },
     "execution_count": 56,
     "metadata": {},
     "output_type": "execute_result"
    }
   ],
   "source": [
    "nlp.pipeline"
   ]
  },
  {
   "cell_type": "code",
   "execution_count": 57,
   "id": "cae093e7",
   "metadata": {},
   "outputs": [],
   "source": [
    "doc2 = nlp(\"Google isn't looking into startups.\")"
   ]
  },
  {
   "cell_type": "code",
   "execution_count": 59,
   "id": "f9ba86ff",
   "metadata": {},
   "outputs": [
    {
     "name": "stdout",
     "output_type": "stream",
     "text": [
      "Google      PROPN     nsubj     \n",
      "is          AUX       aux       \n",
      "n't         PART      neg       \n",
      "looking     VERB      ROOT      \n",
      "into        ADP       prep      \n",
      "startups    NOUN      pobj      \n",
      ".           PUNCT     punct     \n"
     ]
    }
   ],
   "source": [
    "for token in doc2:\n",
    "    print(f\"{token.text:<12}{token.pos_:<10}{token.dep_:<10}\") "
   ]
  },
  {
   "cell_type": "code",
   "execution_count": 60,
   "id": "d52e167f",
   "metadata": {},
   "outputs": [
    {
     "data": {
      "text/plain": [
       "'proper noun'"
      ]
     },
     "execution_count": 60,
     "metadata": {},
     "output_type": "execute_result"
    }
   ],
   "source": [
    "spacy.explain('PROPN')"
   ]
  },
  {
   "cell_type": "code",
   "execution_count": 61,
   "id": "099f0889",
   "metadata": {},
   "outputs": [
    {
     "data": {
      "text/plain": [
       "'auxiliary'"
      ]
     },
     "execution_count": 61,
     "metadata": {},
     "output_type": "execute_result"
    }
   ],
   "source": [
    "spacy.explain('AUX')"
   ]
  },
  {
   "cell_type": "code",
   "execution_count": null,
   "id": "d723246c",
   "metadata": {},
   "outputs": [],
   "source": []
  }
 ],
 "metadata": {
  "kernelspec": {
   "display_name": "Python 3",
   "language": "python",
   "name": "python3"
  },
  "language_info": {
   "codemirror_mode": {
    "name": "ipython",
    "version": 3
   },
   "file_extension": ".py",
   "mimetype": "text/x-python",
   "name": "python",
   "nbconvert_exporter": "python",
   "pygments_lexer": "ipython3",
   "version": "3.8.8"
  }
 },
 "nbformat": 4,
 "nbformat_minor": 5
}
